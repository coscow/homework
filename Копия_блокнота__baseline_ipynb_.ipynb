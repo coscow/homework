{
  "nbformat": 4,
  "nbformat_minor": 0,
  "metadata": {
    "kernelspec": {
      "display_name": "Python 3",
      "language": "python",
      "name": "python3"
    },
    "language_info": {
      "codemirror_mode": {
        "name": "ipython",
        "version": 3
      },
      "file_extension": ".py",
      "mimetype": "text/x-python",
      "name": "python",
      "nbconvert_exporter": "python",
      "pygments_lexer": "ipython3",
      "version": "3.7.4"
    },
    "colab": {
      "provenance": []
    },
    "widgets": {
      "application/vnd.jupyter.widget-state+json": {
        "d64c9d90da834431aecf2b0214df2db3": {
          "model_module": "catboost-widget",
          "model_name": "CatboostWidgetModel",
          "model_module_version": "^1.0.0",
          "state": {
            "_dom_classes": [],
            "_model_module": "catboost-widget",
            "_model_module_version": "^1.0.0",
            "_model_name": "CatboostWidgetModel",
            "_view_count": null,
            "_view_module": "catboost-widget",
            "_view_module_version": "^1.0.0",
            "_view_name": "CatboostWidgetView",
            "data": {
              "catboost_info": {
                "path": "catboost_info",
                "name": "catboost_info",
                "content": {
                  "passed_iterations": 47,
                  "total_iterations": 48,
                  "data": {
                    "iterations": [
                      {
                        "parameters": [
                          {
                            "score_function": "L2",
                            "depth": 2,
                            "learning_rate": 0.01,
                            "iterations": 100
                          }
                        ],
                        "learn": [
                          0.4649298432
                        ],
                        "iteration": 0,
                        "passed_time": 0.5345333074,
                        "remaining_time": 25.12306545,
                        "test": [
                          0.8174323884,
                          0.4808290222
                        ]
                      },
                      {
                        "parameters": [
                          {
                            "score_function": "L2",
                            "depth": 2,
                            "learning_rate": 0.03,
                            "iterations": 100
                          }
                        ],
                        "learn": [
                          0.4121957083
                        ],
                        "iteration": 1,
                        "passed_time": 1.298308476,
                        "remaining_time": 29.86109494,
                        "test": [
                          0.8212749616,
                          0.4437494953
                        ]
                      },
                      {
                        "parameters": [
                          {
                            "score_function": "L2",
                            "depth": 2,
                            "learning_rate": 0.05,
                            "iterations": 100
                          }
                        ],
                        "learn": [
                          0.4039995375
                        ],
                        "iteration": 2,
                        "passed_time": 1.866876653,
                        "remaining_time": 28.0031498,
                        "test": [
                          0.8249802169,
                          0.4379291172
                        ]
                      },
                      {
                        "parameters": [
                          {
                            "score_function": "L2",
                            "depth": 2,
                            "learning_rate": 0.1,
                            "iterations": 100
                          }
                        ],
                        "learn": [
                          0.3957887315
                        ],
                        "iteration": 3,
                        "passed_time": 2.354769228,
                        "remaining_time": 25.90246151,
                        "test": [
                          0.8262905553,
                          0.4363581618
                        ]
                      },
                      {
                        "parameters": [
                          {
                            "score_function": "L2",
                            "depth": 2,
                            "learning_rate": 0.01,
                            "iterations": 200
                          }
                        ],
                        "learn": [
                          0.4261443953
                        ],
                        "iteration": 4,
                        "passed_time": 3.673129638,
                        "remaining_time": 31.58891489,
                        "test": [
                          0.8195317228,
                          0.4529524757
                        ]
                      },
                      {
                        "parameters": [
                          {
                            "score_function": "L2",
                            "depth": 2,
                            "learning_rate": 0.03,
                            "iterations": 200
                          }
                        ],
                        "learn": [
                          0.4005117027
                        ],
                        "iteration": 5,
                        "passed_time": 5.021496681,
                        "remaining_time": 35.15047677,
                        "test": [
                          0.8257855048,
                          0.436801136
                        ]
                      },
                      {
                        "parameters": [
                          {
                            "score_function": "L2",
                            "depth": 2,
                            "learning_rate": 0.05,
                            "iterations": 200
                          }
                        ],
                        "learn": [
                          0.3960113765
                        ],
                        "iteration": 6,
                        "passed_time": 7.014704955,
                        "remaining_time": 41.08612902,
                        "test": [
                          0.8278406182,
                          0.4347915405
                        ]
                      },
                      {
                        "parameters": [
                          {
                            "score_function": "L2",
                            "depth": 2,
                            "learning_rate": 0.1,
                            "iterations": 200
                          }
                        ],
                        "learn": [
                          0.3901117821
                        ],
                        "iteration": 7,
                        "passed_time": 9.233438276,
                        "remaining_time": 46.16719138,
                        "test": [
                          0.8292999116,
                          0.4332834082
                        ]
                      },
                      {
                        "parameters": [
                          {
                            "score_function": "L2",
                            "depth": 2,
                            "learning_rate": 0.01,
                            "iterations": 300
                          }
                        ],
                        "learn": [
                          0.4130374667
                        ],
                        "iteration": 8,
                        "passed_time": 12.45172609,
                        "remaining_time": 53.95747972,
                        "test": [
                          0.8228320067,
                          0.4436196554
                        ]
                      },
                      {
                        "parameters": [
                          {
                            "score_function": "L2",
                            "depth": 2,
                            "learning_rate": 0.03,
                            "iterations": 300
                          }
                        ],
                        "learn": [
                          0.3966605127
                        ],
                        "iteration": 9,
                        "passed_time": 15.51929359,
                        "remaining_time": 58.97331565,
                        "test": [
                          0.8271121352,
                          0.4352870734
                        ]
                      },
                      {
                        "parameters": [
                          {
                            "score_function": "L2",
                            "depth": 2,
                            "learning_rate": 0.05,
                            "iterations": 300
                          }
                        ],
                        "learn": [
                          0.3919416051
                        ],
                        "iteration": 10,
                        "passed_time": 18.69856758,
                        "remaining_time": 62.89518185,
                        "test": [
                          0.8293092212,
                          0.4335556889
                        ]
                      },
                      {
                        "parameters": [
                          {
                            "score_function": "L2",
                            "depth": 2,
                            "learning_rate": 0.1,
                            "iterations": 300
                          }
                        ],
                        "learn": [
                          0.3850452135
                        ],
                        "iteration": 11,
                        "passed_time": 22.03681059,
                        "remaining_time": 66.11043178,
                        "test": [
                          0.8294255923,
                          0.4331102118
                        ]
                      },
                      {
                        "parameters": [
                          {
                            "score_function": "L2",
                            "depth": 2,
                            "learning_rate": 0.01,
                            "iterations": 500
                          }
                        ],
                        "learn": [
                          0.4033276337
                        ],
                        "iteration": 12,
                        "passed_time": 27.49760255,
                        "remaining_time": 74.03200686,
                        "test": [
                          0.8257389564,
                          0.4375670162
                        ]
                      },
                      {
                        "parameters": [
                          {
                            "score_function": "L2",
                            "depth": 2,
                            "learning_rate": 0.03,
                            "iterations": 500
                          }
                        ],
                        "learn": [
                          0.3919057329
                        ],
                        "iteration": 13,
                        "passed_time": 31.31934285,
                        "remaining_time": 76.06126121,
                        "test": [
                          0.8288483918,
                          0.4339077636
                        ]
                      },
                      {
                        "parameters": [
                          {
                            "score_function": "L2",
                            "depth": 2,
                            "learning_rate": 0.05,
                            "iterations": 500
                          }
                        ],
                        "learn": [
                          0.3862852556
                        ],
                        "iteration": 14,
                        "passed_time": 34.30740222,
                        "remaining_time": 75.47628487,
                        "test": [
                          0.8296909184,
                          0.4327434595
                        ]
                      },
                      {
                        "parameters": [
                          {
                            "score_function": "L2",
                            "depth": 2,
                            "learning_rate": 0.1,
                            "iterations": 500
                          }
                        ],
                        "learn": [
                          0.3766314857
                        ],
                        "iteration": 15,
                        "passed_time": 37.26066515,
                        "remaining_time": 74.5213303,
                        "test": [
                          0.8303914723,
                          0.4315864798
                        ]
                      },
                      {
                        "parameters": [
                          {
                            "score_function": "L2",
                            "depth": 4,
                            "learning_rate": 0.01,
                            "iterations": 100
                          }
                        ],
                        "learn": [
                          0.4471371185
                        ],
                        "iteration": 16,
                        "passed_time": 37.93003419,
                        "remaining_time": 69.16653294,
                        "test": [
                          0.8215379602,
                          0.4677686525
                        ]
                      },
                      {
                        "parameters": [
                          {
                            "score_function": "L2",
                            "depth": 4,
                            "learning_rate": 0.03,
                            "iterations": 100
                          }
                        ],
                        "learn": [
                          0.3981381692
                        ],
                        "iteration": 17,
                        "passed_time": 38.60404138,
                        "remaining_time": 64.34006896,
                        "test": [
                          0.8261858213,
                          0.4377278519
                        ]
                      },
                      {
                        "parameters": [
                          {
                            "score_function": "L2",
                            "depth": 4,
                            "learning_rate": 0.05,
                            "iterations": 100
                          }
                        ],
                        "learn": [
                          0.3891563607
                        ],
                        "iteration": 18,
                        "passed_time": 39.27580993,
                        "remaining_time": 59.94728884,
                        "test": [
                          0.8264720942,
                          0.4350815583
                        ]
                      },
                      {
                        "parameters": [
                          {
                            "score_function": "L2",
                            "depth": 4,
                            "learning_rate": 0.1,
                            "iterations": 100
                          }
                        ],
                        "learn": [
                          0.3783151154
                        ],
                        "iteration": 19,
                        "passed_time": 39.93333023,
                        "remaining_time": 55.90666232,
                        "test": [
                          0.8303100126,
                          0.4317267285
                        ]
                      },
                      {
                        "parameters": [
                          {
                            "score_function": "L2",
                            "depth": 4,
                            "learning_rate": 0.01,
                            "iterations": 200
                          }
                        ],
                        "learn": [
                          0.4091997389
                        ],
                        "iteration": 20,
                        "passed_time": 42.09575466,
                        "remaining_time": 54.12311314,
                        "test": [
                          0.824086487,
                          0.4416286851
                        ]
                      },
                      {
                        "parameters": [
                          {
                            "score_function": "L2",
                            "depth": 4,
                            "learning_rate": 0.03,
                            "iterations": 200
                          }
                        ],
                        "learn": [
                          0.3864591366
                        ],
                        "iteration": 21,
                        "passed_time": 44.31884326,
                        "remaining_time": 52.37681476,
                        "test": [
                          0.8279104408,
                          0.4339933822
                        ]
                      },
                      {
                        "parameters": [
                          {
                            "score_function": "L2",
                            "depth": 4,
                            "learning_rate": 0.05,
                            "iterations": 200
                          }
                        ],
                        "learn": [
                          0.3758325437
                        ],
                        "iteration": 22,
                        "passed_time": 46.48959726,
                        "remaining_time": 50.53217093,
                        "test": [
                          0.8283177396,
                          0.4334991869
                        ]
                      },
                      {
                        "parameters": [
                          {
                            "score_function": "L2",
                            "depth": 4,
                            "learning_rate": 0.1,
                            "iterations": 200
                          }
                        ],
                        "learn": [
                          0.3581441797
                        ],
                        "iteration": 23,
                        "passed_time": 48.69316199,
                        "remaining_time": 48.69316199,
                        "test": [
                          0.8280873249,
                          0.4341395008
                        ]
                      },
                      {
                        "parameters": [
                          {
                            "score_function": "L2",
                            "depth": 4,
                            "learning_rate": 0.01,
                            "iterations": 300
                          }
                        ],
                        "learn": [
                          0.3987459821
                        ],
                        "iteration": 24,
                        "passed_time": 51.90744235,
                        "remaining_time": 47.75484696,
                        "test": [
                          0.825764558,
                          0.4367290925
                        ]
                      },
                      {
                        "parameters": [
                          {
                            "score_function": "L2",
                            "depth": 4,
                            "learning_rate": 0.03,
                            "iterations": 300
                          }
                        ],
                        "learn": [
                          0.3793340253
                        ],
                        "iteration": 25,
                        "passed_time": 55.2411053,
                        "remaining_time": 46.74247371,
                        "test": [
                          0.829302239,
                          0.4330068031
                        ]
                      },
                      {
                        "parameters": [
                          {
                            "score_function": "L2",
                            "depth": 4,
                            "learning_rate": 0.05,
                            "iterations": 300
                          }
                        ],
                        "learn": [
                          0.3661669791
                        ],
                        "iteration": 26,
                        "passed_time": 58.59389196,
                        "remaining_time": 45.57302708,
                        "test": [
                          0.828617977,
                          0.4332677138
                        ]
                      },
                      {
                        "parameters": [
                          {
                            "score_function": "L2",
                            "depth": 4,
                            "learning_rate": 0.1,
                            "iterations": 300
                          }
                        ],
                        "learn": [
                          0.3420069017
                        ],
                        "iteration": 27,
                        "passed_time": 61.97621447,
                        "remaining_time": 44.26872462,
                        "test": [
                          0.8280873249,
                          0.4341395008
                        ]
                      },
                      {
                        "parameters": [
                          {
                            "score_function": "L2",
                            "depth": 4,
                            "learning_rate": 0.01,
                            "iterations": 500
                          }
                        ],
                        "learn": [
                          0.3895884559
                        ],
                        "iteration": 28,
                        "passed_time": 67.33616655,
                        "remaining_time": 44.11679877,
                        "test": [
                          0.8266280315,
                          0.4351086197
                        ]
                      },
                      {
                        "parameters": [
                          {
                            "score_function": "L2",
                            "depth": 4,
                            "learning_rate": 0.03,
                            "iterations": 500
                          }
                        ],
                        "learn": [
                          0.366589441
                        ],
                        "iteration": 29,
                        "passed_time": 72.79967034,
                        "remaining_time": 43.6798022,
                        "test": [
                          0.8300377042,
                          0.4323653702
                        ]
                      },
                      {
                        "parameters": [
                          {
                            "score_function": "L2",
                            "depth": 4,
                            "learning_rate": 0.05,
                            "iterations": 500
                          }
                        ],
                        "learn": [
                          0.3489177508
                        ],
                        "iteration": 30,
                        "passed_time": 78.3733803,
                        "remaining_time": 42.97895049,
                        "test": [
                          0.828617977,
                          0.4332677138
                        ]
                      },
                      {
                        "parameters": [
                          {
                            "score_function": "L2",
                            "depth": 4,
                            "learning_rate": 0.1,
                            "iterations": 500
                          }
                        ],
                        "learn": [
                          0.3181863805
                        ],
                        "iteration": 31,
                        "passed_time": 83.66230417,
                        "remaining_time": 41.83115208,
                        "test": [
                          0.8280873249,
                          0.4341395008
                        ]
                      },
                      {
                        "parameters": [
                          {
                            "score_function": "L2",
                            "depth": 6,
                            "learning_rate": 0.01,
                            "iterations": 100
                          }
                        ],
                        "learn": [
                          0.4335707331
                        ],
                        "iteration": 32,
                        "passed_time": 84.53370348,
                        "remaining_time": 38.42441067,
                        "test": [
                          0.8259367872,
                          0.4590574226
                        ]
                      },
                      {
                        "parameters": [
                          {
                            "score_function": "L2",
                            "depth": 6,
                            "learning_rate": 0.03,
                            "iterations": 100
                          }
                        ],
                        "learn": [
                          0.3784348979
                        ],
                        "iteration": 33,
                        "passed_time": 85.40624373,
                        "remaining_time": 35.16727683,
                        "test": [
                          0.8282618815,
                          0.4340586335
                        ]
                      },
                      {
                        "parameters": [
                          {
                            "score_function": "L2",
                            "depth": 6,
                            "learning_rate": 0.05,
                            "iterations": 100
                          }
                        ],
                        "learn": [
                          0.3637817589
                        ],
                        "iteration": 34,
                        "passed_time": 86.33002754,
                        "remaining_time": 32.0654388,
                        "test": [
                          0.8284061816,
                          0.4332982398
                        ]
                      },
                      {
                        "parameters": [
                          {
                            "score_function": "L2",
                            "depth": 6,
                            "learning_rate": 0.1,
                            "iterations": 100
                          }
                        ],
                        "learn": [
                          0.3355850092
                        ],
                        "iteration": 35,
                        "passed_time": 87.25881408,
                        "remaining_time": 29.08627136,
                        "test": [
                          0.828320067,
                          0.4347646979
                        ]
                      },
                      {
                        "parameters": [
                          {
                            "score_function": "L2",
                            "depth": 6,
                            "learning_rate": 0.01,
                            "iterations": 200
                          }
                        ],
                        "learn": [
                          0.3910598645
                        ],
                        "iteration": 36,
                        "passed_time": 90.75849876,
                        "remaining_time": 26.98225639,
                        "test": [
                          0.8251431364,
                          0.4388516636
                        ]
                      },
                      {
                        "parameters": [
                          {
                            "score_function": "L2",
                            "depth": 6,
                            "learning_rate": 0.03,
                            "iterations": 200
                          }
                        ],
                        "learn": [
                          0.356241401
                        ],
                        "iteration": 37,
                        "passed_time": 94.32362389,
                        "remaining_time": 24.82200629,
                        "test": [
                          0.8265070055,
                          0.4357542465
                        ]
                      },
                      {
                        "parameters": [
                          {
                            "score_function": "L2",
                            "depth": 6,
                            "learning_rate": 0.05,
                            "iterations": 200
                          }
                        ],
                        "learn": [
                          0.3365341557
                        ],
                        "iteration": 38,
                        "passed_time": 97.86406428,
                        "remaining_time": 22.58401483,
                        "test": [
                          0.8267327654,
                          0.4349373019
                        ]
                      },
                      {
                        "parameters": [
                          {
                            "score_function": "L2",
                            "depth": 6,
                            "learning_rate": 0.1,
                            "iterations": 200
                          }
                        ],
                        "learn": [
                          0.2902544383
                        ],
                        "iteration": 39,
                        "passed_time": 101.4952343,
                        "remaining_time": 20.29904686,
                        "test": [
                          0.8238351254,
                          0.437711238
                        ]
                      },
                      {
                        "parameters": [
                          {
                            "score_function": "L2",
                            "depth": 6,
                            "learning_rate": 0.01,
                            "iterations": 300
                          }
                        ],
                        "learn": [
                          0.3781641403
                        ],
                        "iteration": 40,
                        "passed_time": 106.866581,
                        "remaining_time": 18.24551383,
                        "test": [
                          0.8264139087,
                          0.4358194906
                        ]
                      },
                      {
                        "parameters": [
                          {
                            "score_function": "L2",
                            "depth": 6,
                            "learning_rate": 0.03,
                            "iterations": 300
                          }
                        ],
                        "learn": [
                          0.3407325216
                        ],
                        "iteration": 41,
                        "passed_time": 112.302312,
                        "remaining_time": 16.04318742,
                        "test": [
                          0.8275869292,
                          0.4349403064
                        ]
                      },
                      {
                        "parameters": [
                          {
                            "score_function": "L2",
                            "depth": 6,
                            "learning_rate": 0.05,
                            "iterations": 300
                          }
                        ],
                        "learn": [
                          0.3137859727
                        ],
                        "iteration": 42,
                        "passed_time": 117.7324045,
                        "remaining_time": 13.68981447,
                        "test": [
                          0.8267327654,
                          0.4349373019
                        ]
                      },
                      {
                        "parameters": [
                          {
                            "score_function": "L2",
                            "depth": 6,
                            "learning_rate": 0.1,
                            "iterations": 300
                          }
                        ],
                        "learn": [
                          0.2555679889
                        ],
                        "iteration": 43,
                        "passed_time": 123.2305568,
                        "remaining_time": 11.20277789,
                        "test": [
                          0.8238351254,
                          0.437711238
                        ]
                      },
                      {
                        "parameters": [
                          {
                            "score_function": "L2",
                            "depth": 6,
                            "learning_rate": 0.01,
                            "iterations": 500
                          }
                        ],
                        "learn": [
                          0.3622766341
                        ],
                        "iteration": 44,
                        "passed_time": 133.9739604,
                        "remaining_time": 8.93159736,
                        "test": [
                          0.8280873249,
                          0.434135116
                        ]
                      },
                      {
                        "parameters": [
                          {
                            "score_function": "L2",
                            "depth": 6,
                            "learning_rate": 0.03,
                            "iterations": 500
                          }
                        ],
                        "learn": [
                          0.3108830631
                        ],
                        "iteration": 45,
                        "passed_time": 142.9321273,
                        "remaining_time": 6.214440316,
                        "test": [
                          0.8275869292,
                          0.4349403064
                        ]
                      },
                      {
                        "parameters": [
                          {
                            "score_function": "L2",
                            "depth": 6,
                            "learning_rate": 0.05,
                            "iterations": 500
                          }
                        ],
                        "learn": [
                          0.2723705778
                        ],
                        "iteration": 46,
                        "passed_time": 152.1084879,
                        "remaining_time": 3.236350806,
                        "test": [
                          0.8267327654,
                          0.4349373019
                        ]
                      },
                      {
                        "parameters": [
                          {
                            "score_function": "L2",
                            "depth": 6,
                            "learning_rate": 0.1,
                            "iterations": 500
                          }
                        ],
                        "learn": [
                          0.2141164973
                        ],
                        "iteration": 47,
                        "passed_time": 160.3231874,
                        "remaining_time": 0,
                        "test": [
                          0.8238351254,
                          0.437711238
                        ]
                      }
                    ],
                    "meta": {
                      "test_sets": [
                        "test"
                      ],
                      "test_metrics": [
                        {
                          "best_value": "Max",
                          "name": "AUC"
                        },
                        {
                          "best_value": "Min",
                          "name": "CrossEntropy"
                        }
                      ],
                      "learn_metrics": [
                        {
                          "best_value": "Min",
                          "name": "CrossEntropy"
                        }
                      ],
                      "launch_mode": "Train",
                      "parameters": "parameters",
                      "iteration_count": 48,
                      "learn_sets": [
                        "learn"
                      ],
                      "name": "experiment"
                    }
                  }
                }
              }
            },
            "layout": "IPY_MODEL_384c7f0d572b4e0dbd28cf11dca43768"
          }
        }
      }
    }
  },
  "cells": [
    {
      "cell_type": "markdown",
      "metadata": {
        "id": "TK7oX5qdEEYr"
      },
      "source": [
        "<p style=\"align: center;\"><img align=center src=\"https://s8.hostingkartinok.com/uploads/images/2018/08/308b49fcfbc619d629fe4604bceb67ac.jpg\" width=500 height=450/></p>\n",
        "\n",
        "<h3 style=\"text-align: center;\"><b>Школа глубокого обучения ФПМИ МФТИ</b></h3>\n",
        "\n",
        "<h3 style=\"text-align: center;\"><b>Домашнее задание. Продвинутый поток. Весна 2021</b></h3>\n",
        "\n",
        "Это домашнее задание будет посвящено полноценному решению задачи машинного обучения."
      ]
    },
    {
      "cell_type": "markdown",
      "metadata": {
        "id": "zlB-owfaEEYs"
      },
      "source": [
        "Есть две части этого домашнего задания: \n",
        "* Сделать полноценный отчет о вашей работе: как вы обработали данные, какие модели попробовали и какие результаты получились (максимум 10 баллов). За каждую выполненную часть будет начислено определенное количество баллов.\n",
        "* Лучшее решение отправить в соревнование на [kaggle](https://www.kaggle.com/c/advanced-dls-spring-2021/) (максимум 5 баллов). За прохождение определенного порогов будут начисляться баллы.\n",
        "\n",
        "\n",
        "**Обе части будут проверяться в формате peer-review. Т.е. вашу посылку на степик будут проверять несколько других студентов и аггрегация их оценок будет выставлена. В то же время вам тоже нужно будет проверить несколько других учеников.**\n",
        "\n",
        "**Пожалуйста, делайте свою работу чистой и понятной, чтобы облегчить проверку. Если у вас будут проблемы с решением или хочется совета, то пишите в наш чат в телеграме или в лс @runfme. Если вы захотите проаппелировать оценку, то пипшите в лс @runfme.**\n",
        "\n",
        "**Во всех пунктах указания это минимальный набор вещей, которые стоит сделать. Если вы можете сделать какой-то шаг лучше или добавить что-то свое - дерзайте!**"
      ]
    },
    {
      "cell_type": "markdown",
      "metadata": {
        "id": "Tu_JvqcBEN8Y"
      },
      "source": [
        "# Как проверять?\n",
        "\n",
        "Ставьте полный балл, если выполнены все рекомендации или сделано что-то более интересное и сложное. За каждый отсустствующий пункт из рекомендация снижайте 1 балл."
      ]
    },
    {
      "cell_type": "markdown",
      "metadata": {
        "id": "ninJ63mJEEYt"
      },
      "source": [
        "# Метрика\n",
        "\n",
        "Перед решением любой задачи важно понимать, как будет оцениваться ваше решение. В данном случае мы используем стандартную для задачи классификации метрику ROC-AUC. Ее можно вычислить используя только предсказанные вероятности и истинные классы без конкретного порога классификации + она раотает даже если классы в данных сильно несбалансированны (примеров одного класса в десятки раз больше примеров длугого). Именно поэтому она очень удобна для соревнований.\n",
        "\n",
        "Посчитать ее легко:\n"
      ]
    },
    {
      "cell_type": "code",
      "metadata": {
        "id": "SQIrka7yEEYu",
        "outputId": "ce7793f0-f853-4a70-b10c-b12d254bba2c",
        "colab": {
          "base_uri": "https://localhost:8080/"
        }
      },
      "source": [
        "from sklearn.metrics import roc_auc_score\n",
        "\n",
        "y_true = [\n",
        "    0,\n",
        "    1,\n",
        "    1,\n",
        "    0,\n",
        "    1\n",
        "]\n",
        "\n",
        "y_predictions = [\n",
        "    0.1,\n",
        "    0.9,\n",
        "    0.4,\n",
        "    0.6,\n",
        "    0.61\n",
        "]\n",
        "\n",
        "roc_auc_score(y_true, y_predictions)"
      ],
      "execution_count": null,
      "outputs": [
        {
          "output_type": "execute_result",
          "data": {
            "text/plain": [
              "0.8333333333333333"
            ]
          },
          "metadata": {},
          "execution_count": 33
        }
      ]
    },
    {
      "cell_type": "markdown",
      "metadata": {
        "id": "IrDNNkNTEEYz"
      },
      "source": [
        "# Первая часть. Исследование"
      ]
    },
    {
      "cell_type": "code",
      "metadata": {
        "id": "lzLqEeZKEEYz"
      },
      "source": [
        "import pandas as pd\n",
        "import numpy as np\n",
        "from matplotlib import pyplot as plt"
      ],
      "execution_count": null,
      "outputs": []
    },
    {
      "cell_type": "markdown",
      "metadata": {
        "id": "LOlxdURSEEY3"
      },
      "source": [
        "## Загрузка данных (2 балла)\n",
        "\n",
        "1) Посмотрите на случайные строчки. \n",
        "\n",
        "2) Посмотрите, есть ли в датасете незаполненные значения (nan'ы) с помощью data.isna() или data.info() и, если нужно, замените их на что-то. Будет хорошо, если вы построите табличку с количеством nan в каждой колонке."
      ]
    },
    {
      "cell_type": "code",
      "source": [
        "from google.colab import drive\n",
        "drive.mount('/content/drive')"
      ],
      "metadata": {
        "colab": {
          "base_uri": "https://localhost:8080/"
        },
        "id": "0YWnhAjwADDz",
        "outputId": "6638a66d-bc47-4144-ffa6-229ffa87dd6a"
      },
      "execution_count": null,
      "outputs": [
        {
          "output_type": "stream",
          "name": "stdout",
          "text": [
            "Drive already mounted at /content/drive; to attempt to forcibly remount, call drive.mount(\"/content/drive\", force_remount=True).\n"
          ]
        }
      ]
    },
    {
      "cell_type": "code",
      "metadata": {
        "id": "pw-Brue9EEY3"
      },
      "source": [
        "data_train = pd.read_csv('/content/drive/MyDrive/Datasets/train.csv')\n",
        "data_test = pd.read_csv('/content/drive/MyDrive/Datasets/test.csv')\n",
        "submission = pd.read_csv('/content/drive/MyDrive/Datasets/submission.csv')"
      ],
      "execution_count": null,
      "outputs": []
    },
    {
      "cell_type": "code",
      "metadata": {
        "id": "KgnkkF5bEEY9"
      },
      "source": [
        "# Для вашего удобства списки с именами разных колонок\n",
        "\n",
        "# Числовые признаки\n",
        "num_cols = [\n",
        "    'ClientPeriod',\n",
        "    'MonthlySpending',\n",
        "    'TotalSpent'\n",
        "]\n",
        "\n",
        "# Категориальные признаки\n",
        "cat_cols = [\n",
        "    'Sex',\n",
        "    'IsSeniorCitizen',\n",
        "    'HasPartner',\n",
        "    'HasChild',\n",
        "    'HasPhoneService',\n",
        "    'HasMultiplePhoneNumbers',\n",
        "    'HasInternetService',\n",
        "    'HasOnlineSecurityService',\n",
        "    'HasOnlineBackup',\n",
        "    'HasDeviceProtection',\n",
        "    'HasTechSupportAccess',\n",
        "    'HasOnlineTV',\n",
        "    'HasMovieSubscription',\n",
        "    'HasContractPhone',\n",
        "    'IsBillingPaperless',\n",
        "    'PaymentMethod'\n",
        "]\n",
        "\n",
        "feature_cols = num_cols + cat_cols\n",
        "target_col = 'Churn'"
      ],
      "execution_count": null,
      "outputs": []
    },
    {
      "cell_type": "code",
      "source": [
        "data_train.sample(10)"
      ],
      "metadata": {
        "colab": {
          "base_uri": "https://localhost:8080/",
          "height": 600
        },
        "id": "Kv6g82-TTZ7V",
        "outputId": "fbb946b8-6bf5-4a40-c7c4-9e59aeabad92"
      },
      "execution_count": null,
      "outputs": [
        {
          "output_type": "execute_result",
          "data": {
            "text/plain": [
              "      ClientPeriod  MonthlySpending TotalSpent     Sex  IsSeniorCitizen  \\\n",
              "1657             5            83.60      404.2  Female                0   \n",
              "2086            52            19.35     1031.7  Female                0   \n",
              "288             62            20.05     1263.9    Male                0   \n",
              "3618            63           110.10     6705.7    Male                0   \n",
              "1974             2            19.85       35.9    Male                0   \n",
              "5220            65            72.45    4653.85    Male                0   \n",
              "623             56            59.80    3457.45    Male                0   \n",
              "3961            16            69.10     1083.7    Male                0   \n",
              "4965            19            86.85     1564.4  Female                0   \n",
              "1724            59            81.25    4639.45  Female                0   \n",
              "\n",
              "     HasPartner HasChild HasPhoneService HasMultiplePhoneNumbers  \\\n",
              "1657        Yes      Yes             Yes                      No   \n",
              "2086        Yes      Yes             Yes                      No   \n",
              "288         Yes      Yes             Yes                      No   \n",
              "3618        Yes       No             Yes                      No   \n",
              "1974        Yes      Yes             Yes                      No   \n",
              "5220        Yes      Yes             Yes                     Yes   \n",
              "623         Yes      Yes             Yes                      No   \n",
              "3961         No      Yes             Yes                     Yes   \n",
              "4965        Yes       No             Yes                     Yes   \n",
              "1724        Yes       No             Yes                      No   \n",
              "\n",
              "     HasInternetService HasOnlineSecurityService      HasOnlineBackup  \\\n",
              "1657        Fiber optic                       No                  Yes   \n",
              "2086                 No      No internet service  No internet service   \n",
              "288                  No      No internet service  No internet service   \n",
              "3618        Fiber optic                      Yes                  Yes   \n",
              "1974                 No      No internet service  No internet service   \n",
              "5220                DSL                      Yes                  Yes   \n",
              "623                 DSL                      Yes                  Yes   \n",
              "3961                DSL                      Yes                  Yes   \n",
              "4965        Fiber optic                       No                   No   \n",
              "1724        Fiber optic                      Yes                   No   \n",
              "\n",
              "      HasDeviceProtection HasTechSupportAccess          HasOnlineTV  \\\n",
              "1657                   No                   No                   No   \n",
              "2086  No internet service  No internet service  No internet service   \n",
              "288   No internet service  No internet service  No internet service   \n",
              "3618                  Yes                  Yes                  Yes   \n",
              "1974  No internet service  No internet service  No internet service   \n",
              "5220                  Yes                   No                   No   \n",
              "623                   Yes                   No                   No   \n",
              "3961                   No                   No                   No   \n",
              "4965                   No                   No                  Yes   \n",
              "1724                  Yes                   No                   No   \n",
              "\n",
              "     HasMovieSubscription HasContractPhone IsBillingPaperless  \\\n",
              "1657                  Yes   Month-to-month                Yes   \n",
              "2086  No internet service         Two year                 No   \n",
              "288   No internet service         Two year                 No   \n",
              "3618                  Yes         Two year                Yes   \n",
              "1974  No internet service         One year                 No   \n",
              "5220                  Yes         One year                 No   \n",
              "623                    No         Two year                Yes   \n",
              "3961                  Yes   Month-to-month                Yes   \n",
              "4965                   No   Month-to-month                Yes   \n",
              "1724                   No         One year                Yes   \n",
              "\n",
              "                  PaymentMethod  Churn  \n",
              "1657           Electronic check      1  \n",
              "2086               Mailed check      0  \n",
              "288     Credit card (automatic)      0  \n",
              "3618    Credit card (automatic)      0  \n",
              "1974               Mailed check      1  \n",
              "5220    Credit card (automatic)      1  \n",
              "623   Bank transfer (automatic)      0  \n",
              "3961           Electronic check      0  \n",
              "4965           Electronic check      0  \n",
              "1724    Credit card (automatic)      0  "
            ],
            "text/html": [
              "\n",
              "  <div id=\"df-b6e1c178-f79a-4dcd-9494-de0ae756877c\">\n",
              "    <div class=\"colab-df-container\">\n",
              "      <div>\n",
              "<style scoped>\n",
              "    .dataframe tbody tr th:only-of-type {\n",
              "        vertical-align: middle;\n",
              "    }\n",
              "\n",
              "    .dataframe tbody tr th {\n",
              "        vertical-align: top;\n",
              "    }\n",
              "\n",
              "    .dataframe thead th {\n",
              "        text-align: right;\n",
              "    }\n",
              "</style>\n",
              "<table border=\"1\" class=\"dataframe\">\n",
              "  <thead>\n",
              "    <tr style=\"text-align: right;\">\n",
              "      <th></th>\n",
              "      <th>ClientPeriod</th>\n",
              "      <th>MonthlySpending</th>\n",
              "      <th>TotalSpent</th>\n",
              "      <th>Sex</th>\n",
              "      <th>IsSeniorCitizen</th>\n",
              "      <th>HasPartner</th>\n",
              "      <th>HasChild</th>\n",
              "      <th>HasPhoneService</th>\n",
              "      <th>HasMultiplePhoneNumbers</th>\n",
              "      <th>HasInternetService</th>\n",
              "      <th>HasOnlineSecurityService</th>\n",
              "      <th>HasOnlineBackup</th>\n",
              "      <th>HasDeviceProtection</th>\n",
              "      <th>HasTechSupportAccess</th>\n",
              "      <th>HasOnlineTV</th>\n",
              "      <th>HasMovieSubscription</th>\n",
              "      <th>HasContractPhone</th>\n",
              "      <th>IsBillingPaperless</th>\n",
              "      <th>PaymentMethod</th>\n",
              "      <th>Churn</th>\n",
              "    </tr>\n",
              "  </thead>\n",
              "  <tbody>\n",
              "    <tr>\n",
              "      <th>1657</th>\n",
              "      <td>5</td>\n",
              "      <td>83.60</td>\n",
              "      <td>404.2</td>\n",
              "      <td>Female</td>\n",
              "      <td>0</td>\n",
              "      <td>Yes</td>\n",
              "      <td>Yes</td>\n",
              "      <td>Yes</td>\n",
              "      <td>No</td>\n",
              "      <td>Fiber optic</td>\n",
              "      <td>No</td>\n",
              "      <td>Yes</td>\n",
              "      <td>No</td>\n",
              "      <td>No</td>\n",
              "      <td>No</td>\n",
              "      <td>Yes</td>\n",
              "      <td>Month-to-month</td>\n",
              "      <td>Yes</td>\n",
              "      <td>Electronic check</td>\n",
              "      <td>1</td>\n",
              "    </tr>\n",
              "    <tr>\n",
              "      <th>2086</th>\n",
              "      <td>52</td>\n",
              "      <td>19.35</td>\n",
              "      <td>1031.7</td>\n",
              "      <td>Female</td>\n",
              "      <td>0</td>\n",
              "      <td>Yes</td>\n",
              "      <td>Yes</td>\n",
              "      <td>Yes</td>\n",
              "      <td>No</td>\n",
              "      <td>No</td>\n",
              "      <td>No internet service</td>\n",
              "      <td>No internet service</td>\n",
              "      <td>No internet service</td>\n",
              "      <td>No internet service</td>\n",
              "      <td>No internet service</td>\n",
              "      <td>No internet service</td>\n",
              "      <td>Two year</td>\n",
              "      <td>No</td>\n",
              "      <td>Mailed check</td>\n",
              "      <td>0</td>\n",
              "    </tr>\n",
              "    <tr>\n",
              "      <th>288</th>\n",
              "      <td>62</td>\n",
              "      <td>20.05</td>\n",
              "      <td>1263.9</td>\n",
              "      <td>Male</td>\n",
              "      <td>0</td>\n",
              "      <td>Yes</td>\n",
              "      <td>Yes</td>\n",
              "      <td>Yes</td>\n",
              "      <td>No</td>\n",
              "      <td>No</td>\n",
              "      <td>No internet service</td>\n",
              "      <td>No internet service</td>\n",
              "      <td>No internet service</td>\n",
              "      <td>No internet service</td>\n",
              "      <td>No internet service</td>\n",
              "      <td>No internet service</td>\n",
              "      <td>Two year</td>\n",
              "      <td>No</td>\n",
              "      <td>Credit card (automatic)</td>\n",
              "      <td>0</td>\n",
              "    </tr>\n",
              "    <tr>\n",
              "      <th>3618</th>\n",
              "      <td>63</td>\n",
              "      <td>110.10</td>\n",
              "      <td>6705.7</td>\n",
              "      <td>Male</td>\n",
              "      <td>0</td>\n",
              "      <td>Yes</td>\n",
              "      <td>No</td>\n",
              "      <td>Yes</td>\n",
              "      <td>No</td>\n",
              "      <td>Fiber optic</td>\n",
              "      <td>Yes</td>\n",
              "      <td>Yes</td>\n",
              "      <td>Yes</td>\n",
              "      <td>Yes</td>\n",
              "      <td>Yes</td>\n",
              "      <td>Yes</td>\n",
              "      <td>Two year</td>\n",
              "      <td>Yes</td>\n",
              "      <td>Credit card (automatic)</td>\n",
              "      <td>0</td>\n",
              "    </tr>\n",
              "    <tr>\n",
              "      <th>1974</th>\n",
              "      <td>2</td>\n",
              "      <td>19.85</td>\n",
              "      <td>35.9</td>\n",
              "      <td>Male</td>\n",
              "      <td>0</td>\n",
              "      <td>Yes</td>\n",
              "      <td>Yes</td>\n",
              "      <td>Yes</td>\n",
              "      <td>No</td>\n",
              "      <td>No</td>\n",
              "      <td>No internet service</td>\n",
              "      <td>No internet service</td>\n",
              "      <td>No internet service</td>\n",
              "      <td>No internet service</td>\n",
              "      <td>No internet service</td>\n",
              "      <td>No internet service</td>\n",
              "      <td>One year</td>\n",
              "      <td>No</td>\n",
              "      <td>Mailed check</td>\n",
              "      <td>1</td>\n",
              "    </tr>\n",
              "    <tr>\n",
              "      <th>5220</th>\n",
              "      <td>65</td>\n",
              "      <td>72.45</td>\n",
              "      <td>4653.85</td>\n",
              "      <td>Male</td>\n",
              "      <td>0</td>\n",
              "      <td>Yes</td>\n",
              "      <td>Yes</td>\n",
              "      <td>Yes</td>\n",
              "      <td>Yes</td>\n",
              "      <td>DSL</td>\n",
              "      <td>Yes</td>\n",
              "      <td>Yes</td>\n",
              "      <td>Yes</td>\n",
              "      <td>No</td>\n",
              "      <td>No</td>\n",
              "      <td>Yes</td>\n",
              "      <td>One year</td>\n",
              "      <td>No</td>\n",
              "      <td>Credit card (automatic)</td>\n",
              "      <td>1</td>\n",
              "    </tr>\n",
              "    <tr>\n",
              "      <th>623</th>\n",
              "      <td>56</td>\n",
              "      <td>59.80</td>\n",
              "      <td>3457.45</td>\n",
              "      <td>Male</td>\n",
              "      <td>0</td>\n",
              "      <td>Yes</td>\n",
              "      <td>Yes</td>\n",
              "      <td>Yes</td>\n",
              "      <td>No</td>\n",
              "      <td>DSL</td>\n",
              "      <td>Yes</td>\n",
              "      <td>Yes</td>\n",
              "      <td>Yes</td>\n",
              "      <td>No</td>\n",
              "      <td>No</td>\n",
              "      <td>No</td>\n",
              "      <td>Two year</td>\n",
              "      <td>Yes</td>\n",
              "      <td>Bank transfer (automatic)</td>\n",
              "      <td>0</td>\n",
              "    </tr>\n",
              "    <tr>\n",
              "      <th>3961</th>\n",
              "      <td>16</td>\n",
              "      <td>69.10</td>\n",
              "      <td>1083.7</td>\n",
              "      <td>Male</td>\n",
              "      <td>0</td>\n",
              "      <td>No</td>\n",
              "      <td>Yes</td>\n",
              "      <td>Yes</td>\n",
              "      <td>Yes</td>\n",
              "      <td>DSL</td>\n",
              "      <td>Yes</td>\n",
              "      <td>Yes</td>\n",
              "      <td>No</td>\n",
              "      <td>No</td>\n",
              "      <td>No</td>\n",
              "      <td>Yes</td>\n",
              "      <td>Month-to-month</td>\n",
              "      <td>Yes</td>\n",
              "      <td>Electronic check</td>\n",
              "      <td>0</td>\n",
              "    </tr>\n",
              "    <tr>\n",
              "      <th>4965</th>\n",
              "      <td>19</td>\n",
              "      <td>86.85</td>\n",
              "      <td>1564.4</td>\n",
              "      <td>Female</td>\n",
              "      <td>0</td>\n",
              "      <td>Yes</td>\n",
              "      <td>No</td>\n",
              "      <td>Yes</td>\n",
              "      <td>Yes</td>\n",
              "      <td>Fiber optic</td>\n",
              "      <td>No</td>\n",
              "      <td>No</td>\n",
              "      <td>No</td>\n",
              "      <td>No</td>\n",
              "      <td>Yes</td>\n",
              "      <td>No</td>\n",
              "      <td>Month-to-month</td>\n",
              "      <td>Yes</td>\n",
              "      <td>Electronic check</td>\n",
              "      <td>0</td>\n",
              "    </tr>\n",
              "    <tr>\n",
              "      <th>1724</th>\n",
              "      <td>59</td>\n",
              "      <td>81.25</td>\n",
              "      <td>4639.45</td>\n",
              "      <td>Female</td>\n",
              "      <td>0</td>\n",
              "      <td>Yes</td>\n",
              "      <td>No</td>\n",
              "      <td>Yes</td>\n",
              "      <td>No</td>\n",
              "      <td>Fiber optic</td>\n",
              "      <td>Yes</td>\n",
              "      <td>No</td>\n",
              "      <td>Yes</td>\n",
              "      <td>No</td>\n",
              "      <td>No</td>\n",
              "      <td>No</td>\n",
              "      <td>One year</td>\n",
              "      <td>Yes</td>\n",
              "      <td>Credit card (automatic)</td>\n",
              "      <td>0</td>\n",
              "    </tr>\n",
              "  </tbody>\n",
              "</table>\n",
              "</div>\n",
              "      <button class=\"colab-df-convert\" onclick=\"convertToInteractive('df-b6e1c178-f79a-4dcd-9494-de0ae756877c')\"\n",
              "              title=\"Convert this dataframe to an interactive table.\"\n",
              "              style=\"display:none;\">\n",
              "        \n",
              "  <svg xmlns=\"http://www.w3.org/2000/svg\" height=\"24px\"viewBox=\"0 0 24 24\"\n",
              "       width=\"24px\">\n",
              "    <path d=\"M0 0h24v24H0V0z\" fill=\"none\"/>\n",
              "    <path d=\"M18.56 5.44l.94 2.06.94-2.06 2.06-.94-2.06-.94-.94-2.06-.94 2.06-2.06.94zm-11 1L8.5 8.5l.94-2.06 2.06-.94-2.06-.94L8.5 2.5l-.94 2.06-2.06.94zm10 10l.94 2.06.94-2.06 2.06-.94-2.06-.94-.94-2.06-.94 2.06-2.06.94z\"/><path d=\"M17.41 7.96l-1.37-1.37c-.4-.4-.92-.59-1.43-.59-.52 0-1.04.2-1.43.59L10.3 9.45l-7.72 7.72c-.78.78-.78 2.05 0 2.83L4 21.41c.39.39.9.59 1.41.59.51 0 1.02-.2 1.41-.59l7.78-7.78 2.81-2.81c.8-.78.8-2.07 0-2.86zM5.41 20L4 18.59l7.72-7.72 1.47 1.35L5.41 20z\"/>\n",
              "  </svg>\n",
              "      </button>\n",
              "      \n",
              "  <style>\n",
              "    .colab-df-container {\n",
              "      display:flex;\n",
              "      flex-wrap:wrap;\n",
              "      gap: 12px;\n",
              "    }\n",
              "\n",
              "    .colab-df-convert {\n",
              "      background-color: #E8F0FE;\n",
              "      border: none;\n",
              "      border-radius: 50%;\n",
              "      cursor: pointer;\n",
              "      display: none;\n",
              "      fill: #1967D2;\n",
              "      height: 32px;\n",
              "      padding: 0 0 0 0;\n",
              "      width: 32px;\n",
              "    }\n",
              "\n",
              "    .colab-df-convert:hover {\n",
              "      background-color: #E2EBFA;\n",
              "      box-shadow: 0px 1px 2px rgba(60, 64, 67, 0.3), 0px 1px 3px 1px rgba(60, 64, 67, 0.15);\n",
              "      fill: #174EA6;\n",
              "    }\n",
              "\n",
              "    [theme=dark] .colab-df-convert {\n",
              "      background-color: #3B4455;\n",
              "      fill: #D2E3FC;\n",
              "    }\n",
              "\n",
              "    [theme=dark] .colab-df-convert:hover {\n",
              "      background-color: #434B5C;\n",
              "      box-shadow: 0px 1px 3px 1px rgba(0, 0, 0, 0.15);\n",
              "      filter: drop-shadow(0px 1px 2px rgba(0, 0, 0, 0.3));\n",
              "      fill: #FFFFFF;\n",
              "    }\n",
              "  </style>\n",
              "\n",
              "      <script>\n",
              "        const buttonEl =\n",
              "          document.querySelector('#df-b6e1c178-f79a-4dcd-9494-de0ae756877c button.colab-df-convert');\n",
              "        buttonEl.style.display =\n",
              "          google.colab.kernel.accessAllowed ? 'block' : 'none';\n",
              "\n",
              "        async function convertToInteractive(key) {\n",
              "          const element = document.querySelector('#df-b6e1c178-f79a-4dcd-9494-de0ae756877c');\n",
              "          const dataTable =\n",
              "            await google.colab.kernel.invokeFunction('convertToInteractive',\n",
              "                                                     [key], {});\n",
              "          if (!dataTable) return;\n",
              "\n",
              "          const docLinkHtml = 'Like what you see? Visit the ' +\n",
              "            '<a target=\"_blank\" href=https://colab.research.google.com/notebooks/data_table.ipynb>data table notebook</a>'\n",
              "            + ' to learn more about interactive tables.';\n",
              "          element.innerHTML = '';\n",
              "          dataTable['output_type'] = 'display_data';\n",
              "          await google.colab.output.renderOutput(dataTable, element);\n",
              "          const docLink = document.createElement('div');\n",
              "          docLink.innerHTML = docLinkHtml;\n",
              "          element.appendChild(docLink);\n",
              "        }\n",
              "      </script>\n",
              "    </div>\n",
              "  </div>\n",
              "  "
            ]
          },
          "metadata": {},
          "execution_count": 38
        }
      ]
    },
    {
      "cell_type": "code",
      "source": [
        "data_train.info()"
      ],
      "metadata": {
        "colab": {
          "base_uri": "https://localhost:8080/"
        },
        "id": "jIpaI75w0nLv",
        "outputId": "f1f13795-34e4-42b7-a606-87088f4d94cd"
      },
      "execution_count": null,
      "outputs": [
        {
          "output_type": "stream",
          "name": "stdout",
          "text": [
            "<class 'pandas.core.frame.DataFrame'>\n",
            "RangeIndex: 5282 entries, 0 to 5281\n",
            "Data columns (total 20 columns):\n",
            " #   Column                    Non-Null Count  Dtype  \n",
            "---  ------                    --------------  -----  \n",
            " 0   ClientPeriod              5282 non-null   int64  \n",
            " 1   MonthlySpending           5282 non-null   float64\n",
            " 2   TotalSpent                5282 non-null   object \n",
            " 3   Sex                       5282 non-null   object \n",
            " 4   IsSeniorCitizen           5282 non-null   int64  \n",
            " 5   HasPartner                5282 non-null   object \n",
            " 6   HasChild                  5282 non-null   object \n",
            " 7   HasPhoneService           5282 non-null   object \n",
            " 8   HasMultiplePhoneNumbers   5282 non-null   object \n",
            " 9   HasInternetService        5282 non-null   object \n",
            " 10  HasOnlineSecurityService  5282 non-null   object \n",
            " 11  HasOnlineBackup           5282 non-null   object \n",
            " 12  HasDeviceProtection       5282 non-null   object \n",
            " 13  HasTechSupportAccess      5282 non-null   object \n",
            " 14  HasOnlineTV               5282 non-null   object \n",
            " 15  HasMovieSubscription      5282 non-null   object \n",
            " 16  HasContractPhone          5282 non-null   object \n",
            " 17  IsBillingPaperless        5282 non-null   object \n",
            " 18  PaymentMethod             5282 non-null   object \n",
            " 19  Churn                     5282 non-null   int64  \n",
            "dtypes: float64(1), int64(3), object(16)\n",
            "memory usage: 825.4+ KB\n"
          ]
        }
      ]
    },
    {
      "cell_type": "code",
      "source": [
        "data_train.isna().sum()"
      ],
      "metadata": {
        "colab": {
          "base_uri": "https://localhost:8080/"
        },
        "id": "CAyTCHlx0iw0",
        "outputId": "38c8bff6-a991-4d85-8d75-bb2a03996eb5"
      },
      "execution_count": null,
      "outputs": [
        {
          "output_type": "execute_result",
          "data": {
            "text/plain": [
              "ClientPeriod                0\n",
              "MonthlySpending             0\n",
              "TotalSpent                  0\n",
              "Sex                         0\n",
              "IsSeniorCitizen             0\n",
              "HasPartner                  0\n",
              "HasChild                    0\n",
              "HasPhoneService             0\n",
              "HasMultiplePhoneNumbers     0\n",
              "HasInternetService          0\n",
              "HasOnlineSecurityService    0\n",
              "HasOnlineBackup             0\n",
              "HasDeviceProtection         0\n",
              "HasTechSupportAccess        0\n",
              "HasOnlineTV                 0\n",
              "HasMovieSubscription        0\n",
              "HasContractPhone            0\n",
              "IsBillingPaperless          0\n",
              "PaymentMethod               0\n",
              "Churn                       0\n",
              "dtype: int64"
            ]
          },
          "metadata": {},
          "execution_count": 40
        }
      ]
    },
    {
      "cell_type": "code",
      "source": [
        "data_test.info()"
      ],
      "metadata": {
        "colab": {
          "base_uri": "https://localhost:8080/"
        },
        "id": "AmOoXgl23YM9",
        "outputId": "dc0c9fec-152a-423b-85b5-21b6cf5aed74"
      },
      "execution_count": null,
      "outputs": [
        {
          "output_type": "stream",
          "name": "stdout",
          "text": [
            "<class 'pandas.core.frame.DataFrame'>\n",
            "RangeIndex: 1761 entries, 0 to 1760\n",
            "Data columns (total 19 columns):\n",
            " #   Column                    Non-Null Count  Dtype  \n",
            "---  ------                    --------------  -----  \n",
            " 0   ClientPeriod              1761 non-null   int64  \n",
            " 1   MonthlySpending           1761 non-null   float64\n",
            " 2   TotalSpent                1761 non-null   object \n",
            " 3   Sex                       1761 non-null   object \n",
            " 4   IsSeniorCitizen           1761 non-null   int64  \n",
            " 5   HasPartner                1761 non-null   object \n",
            " 6   HasChild                  1761 non-null   object \n",
            " 7   HasPhoneService           1761 non-null   object \n",
            " 8   HasMultiplePhoneNumbers   1761 non-null   object \n",
            " 9   HasInternetService        1761 non-null   object \n",
            " 10  HasOnlineSecurityService  1761 non-null   object \n",
            " 11  HasOnlineBackup           1761 non-null   object \n",
            " 12  HasDeviceProtection       1761 non-null   object \n",
            " 13  HasTechSupportAccess      1761 non-null   object \n",
            " 14  HasOnlineTV               1761 non-null   object \n",
            " 15  HasMovieSubscription      1761 non-null   object \n",
            " 16  HasContractPhone          1761 non-null   object \n",
            " 17  IsBillingPaperless        1761 non-null   object \n",
            " 18  PaymentMethod             1761 non-null   object \n",
            "dtypes: float64(1), int64(2), object(16)\n",
            "memory usage: 261.5+ KB\n"
          ]
        }
      ]
    },
    {
      "cell_type": "code",
      "source": [
        "data_test.isna().sum()"
      ],
      "metadata": {
        "colab": {
          "base_uri": "https://localhost:8080/"
        },
        "id": "XHT7etBU3fx0",
        "outputId": "fe6287e7-dc32-429e-f13b-ac11e508f197"
      },
      "execution_count": null,
      "outputs": [
        {
          "output_type": "execute_result",
          "data": {
            "text/plain": [
              "ClientPeriod                0\n",
              "MonthlySpending             0\n",
              "TotalSpent                  0\n",
              "Sex                         0\n",
              "IsSeniorCitizen             0\n",
              "HasPartner                  0\n",
              "HasChild                    0\n",
              "HasPhoneService             0\n",
              "HasMultiplePhoneNumbers     0\n",
              "HasInternetService          0\n",
              "HasOnlineSecurityService    0\n",
              "HasOnlineBackup             0\n",
              "HasDeviceProtection         0\n",
              "HasTechSupportAccess        0\n",
              "HasOnlineTV                 0\n",
              "HasMovieSubscription        0\n",
              "HasContractPhone            0\n",
              "IsBillingPaperless          0\n",
              "PaymentMethod               0\n",
              "dtype: int64"
            ]
          },
          "metadata": {},
          "execution_count": 42
        }
      ]
    },
    {
      "cell_type": "markdown",
      "source": [
        "проведем предобработку данных. а именно: удалим дупликаты, заполним пропуски и проверим на наличие шума в данных"
      ],
      "metadata": {
        "id": "JxTaUQKXBVkn"
      }
    },
    {
      "cell_type": "markdown",
      "source": [
        "видно, что в колонке \"TotalSpent\" тип данных \"dtype\", но должен \"float\". если подробно рассмотреть эти данные, то можно заметить, что пропускам в столбце 'TotalSpent' соотвествует 0 в столбце 'ClienPeriod', можно сделать предположение о том, что клиент не успел потратить деньги, а следовательно на место пропусков можно поставить 0"
      ],
      "metadata": {
        "id": "FdmIytXz1geY"
      }
    },
    {
      "cell_type": "code",
      "source": [
        "data_train[data_train['TotalSpent'] == ' ']"
      ],
      "metadata": {
        "colab": {
          "base_uri": "https://localhost:8080/",
          "height": 517
        },
        "id": "duTtyLiq8UBV",
        "outputId": "7ce9b0b2-ed05-4f20-cb63-666a5c52922c"
      },
      "execution_count": null,
      "outputs": [
        {
          "output_type": "execute_result",
          "data": {
            "text/plain": [
              "      ClientPeriod  MonthlySpending TotalSpent     Sex  IsSeniorCitizen  \\\n",
              "1048             0            25.75               Male                0   \n",
              "1707             0            73.35             Female                0   \n",
              "2543             0            19.70               Male                0   \n",
              "3078             0            80.85             Female                0   \n",
              "3697             0            20.00             Female                0   \n",
              "4002             0            61.90               Male                0   \n",
              "4326             0            25.35               Male                0   \n",
              "4551             0            52.55             Female                0   \n",
              "4598             0            56.05             Female                0   \n",
              "\n",
              "     HasPartner HasChild HasPhoneService HasMultiplePhoneNumbers  \\\n",
              "1048        Yes      Yes             Yes                     Yes   \n",
              "1707        Yes      Yes             Yes                     Yes   \n",
              "2543        Yes      Yes             Yes                      No   \n",
              "3078        Yes      Yes             Yes                      No   \n",
              "3697        Yes      Yes             Yes                      No   \n",
              "4002         No      Yes             Yes                     Yes   \n",
              "4326        Yes      Yes             Yes                     Yes   \n",
              "4551        Yes      Yes              No        No phone service   \n",
              "4598        Yes      Yes              No        No phone service   \n",
              "\n",
              "     HasInternetService HasOnlineSecurityService      HasOnlineBackup  \\\n",
              "1048                 No      No internet service  No internet service   \n",
              "1707                DSL                       No                  Yes   \n",
              "2543                 No      No internet service  No internet service   \n",
              "3078                DSL                      Yes                  Yes   \n",
              "3697                 No      No internet service  No internet service   \n",
              "4002                DSL                      Yes                  Yes   \n",
              "4326                 No      No internet service  No internet service   \n",
              "4551                DSL                      Yes                   No   \n",
              "4598                DSL                      Yes                  Yes   \n",
              "\n",
              "      HasDeviceProtection HasTechSupportAccess          HasOnlineTV  \\\n",
              "1048  No internet service  No internet service  No internet service   \n",
              "1707                  Yes                  Yes                  Yes   \n",
              "2543  No internet service  No internet service  No internet service   \n",
              "3078                  Yes                   No                  Yes   \n",
              "3697  No internet service  No internet service  No internet service   \n",
              "4002                   No                  Yes                   No   \n",
              "4326  No internet service  No internet service  No internet service   \n",
              "4551                  Yes                  Yes                  Yes   \n",
              "4598                  Yes                  Yes                  Yes   \n",
              "\n",
              "     HasMovieSubscription HasContractPhone IsBillingPaperless  \\\n",
              "1048  No internet service         Two year                 No   \n",
              "1707                   No         Two year                 No   \n",
              "2543  No internet service         One year                Yes   \n",
              "3078                  Yes         Two year                 No   \n",
              "3697  No internet service         Two year                 No   \n",
              "4002                   No         Two year                Yes   \n",
              "4326  No internet service         Two year                 No   \n",
              "4551                   No         Two year                Yes   \n",
              "4598                   No         Two year                 No   \n",
              "\n",
              "                  PaymentMethod  Churn  \n",
              "1048               Mailed check      0  \n",
              "1707               Mailed check      0  \n",
              "2543               Mailed check      0  \n",
              "3078               Mailed check      0  \n",
              "3697               Mailed check      0  \n",
              "4002  Bank transfer (automatic)      0  \n",
              "4326               Mailed check      0  \n",
              "4551  Bank transfer (automatic)      0  \n",
              "4598    Credit card (automatic)      0  "
            ],
            "text/html": [
              "\n",
              "  <div id=\"df-e4f09b11-c954-4ba6-88e8-22b8e31919c9\">\n",
              "    <div class=\"colab-df-container\">\n",
              "      <div>\n",
              "<style scoped>\n",
              "    .dataframe tbody tr th:only-of-type {\n",
              "        vertical-align: middle;\n",
              "    }\n",
              "\n",
              "    .dataframe tbody tr th {\n",
              "        vertical-align: top;\n",
              "    }\n",
              "\n",
              "    .dataframe thead th {\n",
              "        text-align: right;\n",
              "    }\n",
              "</style>\n",
              "<table border=\"1\" class=\"dataframe\">\n",
              "  <thead>\n",
              "    <tr style=\"text-align: right;\">\n",
              "      <th></th>\n",
              "      <th>ClientPeriod</th>\n",
              "      <th>MonthlySpending</th>\n",
              "      <th>TotalSpent</th>\n",
              "      <th>Sex</th>\n",
              "      <th>IsSeniorCitizen</th>\n",
              "      <th>HasPartner</th>\n",
              "      <th>HasChild</th>\n",
              "      <th>HasPhoneService</th>\n",
              "      <th>HasMultiplePhoneNumbers</th>\n",
              "      <th>HasInternetService</th>\n",
              "      <th>HasOnlineSecurityService</th>\n",
              "      <th>HasOnlineBackup</th>\n",
              "      <th>HasDeviceProtection</th>\n",
              "      <th>HasTechSupportAccess</th>\n",
              "      <th>HasOnlineTV</th>\n",
              "      <th>HasMovieSubscription</th>\n",
              "      <th>HasContractPhone</th>\n",
              "      <th>IsBillingPaperless</th>\n",
              "      <th>PaymentMethod</th>\n",
              "      <th>Churn</th>\n",
              "    </tr>\n",
              "  </thead>\n",
              "  <tbody>\n",
              "    <tr>\n",
              "      <th>1048</th>\n",
              "      <td>0</td>\n",
              "      <td>25.75</td>\n",
              "      <td></td>\n",
              "      <td>Male</td>\n",
              "      <td>0</td>\n",
              "      <td>Yes</td>\n",
              "      <td>Yes</td>\n",
              "      <td>Yes</td>\n",
              "      <td>Yes</td>\n",
              "      <td>No</td>\n",
              "      <td>No internet service</td>\n",
              "      <td>No internet service</td>\n",
              "      <td>No internet service</td>\n",
              "      <td>No internet service</td>\n",
              "      <td>No internet service</td>\n",
              "      <td>No internet service</td>\n",
              "      <td>Two year</td>\n",
              "      <td>No</td>\n",
              "      <td>Mailed check</td>\n",
              "      <td>0</td>\n",
              "    </tr>\n",
              "    <tr>\n",
              "      <th>1707</th>\n",
              "      <td>0</td>\n",
              "      <td>73.35</td>\n",
              "      <td></td>\n",
              "      <td>Female</td>\n",
              "      <td>0</td>\n",
              "      <td>Yes</td>\n",
              "      <td>Yes</td>\n",
              "      <td>Yes</td>\n",
              "      <td>Yes</td>\n",
              "      <td>DSL</td>\n",
              "      <td>No</td>\n",
              "      <td>Yes</td>\n",
              "      <td>Yes</td>\n",
              "      <td>Yes</td>\n",
              "      <td>Yes</td>\n",
              "      <td>No</td>\n",
              "      <td>Two year</td>\n",
              "      <td>No</td>\n",
              "      <td>Mailed check</td>\n",
              "      <td>0</td>\n",
              "    </tr>\n",
              "    <tr>\n",
              "      <th>2543</th>\n",
              "      <td>0</td>\n",
              "      <td>19.70</td>\n",
              "      <td></td>\n",
              "      <td>Male</td>\n",
              "      <td>0</td>\n",
              "      <td>Yes</td>\n",
              "      <td>Yes</td>\n",
              "      <td>Yes</td>\n",
              "      <td>No</td>\n",
              "      <td>No</td>\n",
              "      <td>No internet service</td>\n",
              "      <td>No internet service</td>\n",
              "      <td>No internet service</td>\n",
              "      <td>No internet service</td>\n",
              "      <td>No internet service</td>\n",
              "      <td>No internet service</td>\n",
              "      <td>One year</td>\n",
              "      <td>Yes</td>\n",
              "      <td>Mailed check</td>\n",
              "      <td>0</td>\n",
              "    </tr>\n",
              "    <tr>\n",
              "      <th>3078</th>\n",
              "      <td>0</td>\n",
              "      <td>80.85</td>\n",
              "      <td></td>\n",
              "      <td>Female</td>\n",
              "      <td>0</td>\n",
              "      <td>Yes</td>\n",
              "      <td>Yes</td>\n",
              "      <td>Yes</td>\n",
              "      <td>No</td>\n",
              "      <td>DSL</td>\n",
              "      <td>Yes</td>\n",
              "      <td>Yes</td>\n",
              "      <td>Yes</td>\n",
              "      <td>No</td>\n",
              "      <td>Yes</td>\n",
              "      <td>Yes</td>\n",
              "      <td>Two year</td>\n",
              "      <td>No</td>\n",
              "      <td>Mailed check</td>\n",
              "      <td>0</td>\n",
              "    </tr>\n",
              "    <tr>\n",
              "      <th>3697</th>\n",
              "      <td>0</td>\n",
              "      <td>20.00</td>\n",
              "      <td></td>\n",
              "      <td>Female</td>\n",
              "      <td>0</td>\n",
              "      <td>Yes</td>\n",
              "      <td>Yes</td>\n",
              "      <td>Yes</td>\n",
              "      <td>No</td>\n",
              "      <td>No</td>\n",
              "      <td>No internet service</td>\n",
              "      <td>No internet service</td>\n",
              "      <td>No internet service</td>\n",
              "      <td>No internet service</td>\n",
              "      <td>No internet service</td>\n",
              "      <td>No internet service</td>\n",
              "      <td>Two year</td>\n",
              "      <td>No</td>\n",
              "      <td>Mailed check</td>\n",
              "      <td>0</td>\n",
              "    </tr>\n",
              "    <tr>\n",
              "      <th>4002</th>\n",
              "      <td>0</td>\n",
              "      <td>61.90</td>\n",
              "      <td></td>\n",
              "      <td>Male</td>\n",
              "      <td>0</td>\n",
              "      <td>No</td>\n",
              "      <td>Yes</td>\n",
              "      <td>Yes</td>\n",
              "      <td>Yes</td>\n",
              "      <td>DSL</td>\n",
              "      <td>Yes</td>\n",
              "      <td>Yes</td>\n",
              "      <td>No</td>\n",
              "      <td>Yes</td>\n",
              "      <td>No</td>\n",
              "      <td>No</td>\n",
              "      <td>Two year</td>\n",
              "      <td>Yes</td>\n",
              "      <td>Bank transfer (automatic)</td>\n",
              "      <td>0</td>\n",
              "    </tr>\n",
              "    <tr>\n",
              "      <th>4326</th>\n",
              "      <td>0</td>\n",
              "      <td>25.35</td>\n",
              "      <td></td>\n",
              "      <td>Male</td>\n",
              "      <td>0</td>\n",
              "      <td>Yes</td>\n",
              "      <td>Yes</td>\n",
              "      <td>Yes</td>\n",
              "      <td>Yes</td>\n",
              "      <td>No</td>\n",
              "      <td>No internet service</td>\n",
              "      <td>No internet service</td>\n",
              "      <td>No internet service</td>\n",
              "      <td>No internet service</td>\n",
              "      <td>No internet service</td>\n",
              "      <td>No internet service</td>\n",
              "      <td>Two year</td>\n",
              "      <td>No</td>\n",
              "      <td>Mailed check</td>\n",
              "      <td>0</td>\n",
              "    </tr>\n",
              "    <tr>\n",
              "      <th>4551</th>\n",
              "      <td>0</td>\n",
              "      <td>52.55</td>\n",
              "      <td></td>\n",
              "      <td>Female</td>\n",
              "      <td>0</td>\n",
              "      <td>Yes</td>\n",
              "      <td>Yes</td>\n",
              "      <td>No</td>\n",
              "      <td>No phone service</td>\n",
              "      <td>DSL</td>\n",
              "      <td>Yes</td>\n",
              "      <td>No</td>\n",
              "      <td>Yes</td>\n",
              "      <td>Yes</td>\n",
              "      <td>Yes</td>\n",
              "      <td>No</td>\n",
              "      <td>Two year</td>\n",
              "      <td>Yes</td>\n",
              "      <td>Bank transfer (automatic)</td>\n",
              "      <td>0</td>\n",
              "    </tr>\n",
              "    <tr>\n",
              "      <th>4598</th>\n",
              "      <td>0</td>\n",
              "      <td>56.05</td>\n",
              "      <td></td>\n",
              "      <td>Female</td>\n",
              "      <td>0</td>\n",
              "      <td>Yes</td>\n",
              "      <td>Yes</td>\n",
              "      <td>No</td>\n",
              "      <td>No phone service</td>\n",
              "      <td>DSL</td>\n",
              "      <td>Yes</td>\n",
              "      <td>Yes</td>\n",
              "      <td>Yes</td>\n",
              "      <td>Yes</td>\n",
              "      <td>Yes</td>\n",
              "      <td>No</td>\n",
              "      <td>Two year</td>\n",
              "      <td>No</td>\n",
              "      <td>Credit card (automatic)</td>\n",
              "      <td>0</td>\n",
              "    </tr>\n",
              "  </tbody>\n",
              "</table>\n",
              "</div>\n",
              "      <button class=\"colab-df-convert\" onclick=\"convertToInteractive('df-e4f09b11-c954-4ba6-88e8-22b8e31919c9')\"\n",
              "              title=\"Convert this dataframe to an interactive table.\"\n",
              "              style=\"display:none;\">\n",
              "        \n",
              "  <svg xmlns=\"http://www.w3.org/2000/svg\" height=\"24px\"viewBox=\"0 0 24 24\"\n",
              "       width=\"24px\">\n",
              "    <path d=\"M0 0h24v24H0V0z\" fill=\"none\"/>\n",
              "    <path d=\"M18.56 5.44l.94 2.06.94-2.06 2.06-.94-2.06-.94-.94-2.06-.94 2.06-2.06.94zm-11 1L8.5 8.5l.94-2.06 2.06-.94-2.06-.94L8.5 2.5l-.94 2.06-2.06.94zm10 10l.94 2.06.94-2.06 2.06-.94-2.06-.94-.94-2.06-.94 2.06-2.06.94z\"/><path d=\"M17.41 7.96l-1.37-1.37c-.4-.4-.92-.59-1.43-.59-.52 0-1.04.2-1.43.59L10.3 9.45l-7.72 7.72c-.78.78-.78 2.05 0 2.83L4 21.41c.39.39.9.59 1.41.59.51 0 1.02-.2 1.41-.59l7.78-7.78 2.81-2.81c.8-.78.8-2.07 0-2.86zM5.41 20L4 18.59l7.72-7.72 1.47 1.35L5.41 20z\"/>\n",
              "  </svg>\n",
              "      </button>\n",
              "      \n",
              "  <style>\n",
              "    .colab-df-container {\n",
              "      display:flex;\n",
              "      flex-wrap:wrap;\n",
              "      gap: 12px;\n",
              "    }\n",
              "\n",
              "    .colab-df-convert {\n",
              "      background-color: #E8F0FE;\n",
              "      border: none;\n",
              "      border-radius: 50%;\n",
              "      cursor: pointer;\n",
              "      display: none;\n",
              "      fill: #1967D2;\n",
              "      height: 32px;\n",
              "      padding: 0 0 0 0;\n",
              "      width: 32px;\n",
              "    }\n",
              "\n",
              "    .colab-df-convert:hover {\n",
              "      background-color: #E2EBFA;\n",
              "      box-shadow: 0px 1px 2px rgba(60, 64, 67, 0.3), 0px 1px 3px 1px rgba(60, 64, 67, 0.15);\n",
              "      fill: #174EA6;\n",
              "    }\n",
              "\n",
              "    [theme=dark] .colab-df-convert {\n",
              "      background-color: #3B4455;\n",
              "      fill: #D2E3FC;\n",
              "    }\n",
              "\n",
              "    [theme=dark] .colab-df-convert:hover {\n",
              "      background-color: #434B5C;\n",
              "      box-shadow: 0px 1px 3px 1px rgba(0, 0, 0, 0.15);\n",
              "      filter: drop-shadow(0px 1px 2px rgba(0, 0, 0, 0.3));\n",
              "      fill: #FFFFFF;\n",
              "    }\n",
              "  </style>\n",
              "\n",
              "      <script>\n",
              "        const buttonEl =\n",
              "          document.querySelector('#df-e4f09b11-c954-4ba6-88e8-22b8e31919c9 button.colab-df-convert');\n",
              "        buttonEl.style.display =\n",
              "          google.colab.kernel.accessAllowed ? 'block' : 'none';\n",
              "\n",
              "        async function convertToInteractive(key) {\n",
              "          const element = document.querySelector('#df-e4f09b11-c954-4ba6-88e8-22b8e31919c9');\n",
              "          const dataTable =\n",
              "            await google.colab.kernel.invokeFunction('convertToInteractive',\n",
              "                                                     [key], {});\n",
              "          if (!dataTable) return;\n",
              "\n",
              "          const docLinkHtml = 'Like what you see? Visit the ' +\n",
              "            '<a target=\"_blank\" href=https://colab.research.google.com/notebooks/data_table.ipynb>data table notebook</a>'\n",
              "            + ' to learn more about interactive tables.';\n",
              "          element.innerHTML = '';\n",
              "          dataTable['output_type'] = 'display_data';\n",
              "          await google.colab.output.renderOutput(dataTable, element);\n",
              "          const docLink = document.createElement('div');\n",
              "          docLink.innerHTML = docLinkHtml;\n",
              "          element.appendChild(docLink);\n",
              "        }\n",
              "      </script>\n",
              "    </div>\n",
              "  </div>\n",
              "  "
            ]
          },
          "metadata": {},
          "execution_count": 43
        }
      ]
    },
    {
      "cell_type": "code",
      "source": [
        "data_test[data_test['TotalSpent'] == ' ']"
      ],
      "metadata": {
        "colab": {
          "base_uri": "https://localhost:8080/",
          "height": 211
        },
        "id": "My-LOOdo8Z3Z",
        "outputId": "6948913a-b6d8-4151-f3ca-b9b1e0334adf"
      },
      "execution_count": null,
      "outputs": [
        {
          "output_type": "execute_result",
          "data": {
            "text/plain": [
              "     ClientPeriod  MonthlySpending TotalSpent   Sex  IsSeniorCitizen  \\\n",
              "177             0            19.85             Male                0   \n",
              "767             0            20.25             Male                0   \n",
              "\n",
              "    HasPartner HasChild HasPhoneService HasMultiplePhoneNumbers  \\\n",
              "177        Yes      Yes             Yes                      No   \n",
              "767         No      Yes             Yes                      No   \n",
              "\n",
              "    HasInternetService HasOnlineSecurityService      HasOnlineBackup  \\\n",
              "177                 No      No internet service  No internet service   \n",
              "767                 No      No internet service  No internet service   \n",
              "\n",
              "     HasDeviceProtection HasTechSupportAccess          HasOnlineTV  \\\n",
              "177  No internet service  No internet service  No internet service   \n",
              "767  No internet service  No internet service  No internet service   \n",
              "\n",
              "    HasMovieSubscription HasContractPhone IsBillingPaperless PaymentMethod  \n",
              "177  No internet service         Two year                 No  Mailed check  \n",
              "767  No internet service         Two year                 No  Mailed check  "
            ],
            "text/html": [
              "\n",
              "  <div id=\"df-b0e31c77-108c-46ef-bc1b-8ec074ac27c8\">\n",
              "    <div class=\"colab-df-container\">\n",
              "      <div>\n",
              "<style scoped>\n",
              "    .dataframe tbody tr th:only-of-type {\n",
              "        vertical-align: middle;\n",
              "    }\n",
              "\n",
              "    .dataframe tbody tr th {\n",
              "        vertical-align: top;\n",
              "    }\n",
              "\n",
              "    .dataframe thead th {\n",
              "        text-align: right;\n",
              "    }\n",
              "</style>\n",
              "<table border=\"1\" class=\"dataframe\">\n",
              "  <thead>\n",
              "    <tr style=\"text-align: right;\">\n",
              "      <th></th>\n",
              "      <th>ClientPeriod</th>\n",
              "      <th>MonthlySpending</th>\n",
              "      <th>TotalSpent</th>\n",
              "      <th>Sex</th>\n",
              "      <th>IsSeniorCitizen</th>\n",
              "      <th>HasPartner</th>\n",
              "      <th>HasChild</th>\n",
              "      <th>HasPhoneService</th>\n",
              "      <th>HasMultiplePhoneNumbers</th>\n",
              "      <th>HasInternetService</th>\n",
              "      <th>HasOnlineSecurityService</th>\n",
              "      <th>HasOnlineBackup</th>\n",
              "      <th>HasDeviceProtection</th>\n",
              "      <th>HasTechSupportAccess</th>\n",
              "      <th>HasOnlineTV</th>\n",
              "      <th>HasMovieSubscription</th>\n",
              "      <th>HasContractPhone</th>\n",
              "      <th>IsBillingPaperless</th>\n",
              "      <th>PaymentMethod</th>\n",
              "    </tr>\n",
              "  </thead>\n",
              "  <tbody>\n",
              "    <tr>\n",
              "      <th>177</th>\n",
              "      <td>0</td>\n",
              "      <td>19.85</td>\n",
              "      <td></td>\n",
              "      <td>Male</td>\n",
              "      <td>0</td>\n",
              "      <td>Yes</td>\n",
              "      <td>Yes</td>\n",
              "      <td>Yes</td>\n",
              "      <td>No</td>\n",
              "      <td>No</td>\n",
              "      <td>No internet service</td>\n",
              "      <td>No internet service</td>\n",
              "      <td>No internet service</td>\n",
              "      <td>No internet service</td>\n",
              "      <td>No internet service</td>\n",
              "      <td>No internet service</td>\n",
              "      <td>Two year</td>\n",
              "      <td>No</td>\n",
              "      <td>Mailed check</td>\n",
              "    </tr>\n",
              "    <tr>\n",
              "      <th>767</th>\n",
              "      <td>0</td>\n",
              "      <td>20.25</td>\n",
              "      <td></td>\n",
              "      <td>Male</td>\n",
              "      <td>0</td>\n",
              "      <td>No</td>\n",
              "      <td>Yes</td>\n",
              "      <td>Yes</td>\n",
              "      <td>No</td>\n",
              "      <td>No</td>\n",
              "      <td>No internet service</td>\n",
              "      <td>No internet service</td>\n",
              "      <td>No internet service</td>\n",
              "      <td>No internet service</td>\n",
              "      <td>No internet service</td>\n",
              "      <td>No internet service</td>\n",
              "      <td>Two year</td>\n",
              "      <td>No</td>\n",
              "      <td>Mailed check</td>\n",
              "    </tr>\n",
              "  </tbody>\n",
              "</table>\n",
              "</div>\n",
              "      <button class=\"colab-df-convert\" onclick=\"convertToInteractive('df-b0e31c77-108c-46ef-bc1b-8ec074ac27c8')\"\n",
              "              title=\"Convert this dataframe to an interactive table.\"\n",
              "              style=\"display:none;\">\n",
              "        \n",
              "  <svg xmlns=\"http://www.w3.org/2000/svg\" height=\"24px\"viewBox=\"0 0 24 24\"\n",
              "       width=\"24px\">\n",
              "    <path d=\"M0 0h24v24H0V0z\" fill=\"none\"/>\n",
              "    <path d=\"M18.56 5.44l.94 2.06.94-2.06 2.06-.94-2.06-.94-.94-2.06-.94 2.06-2.06.94zm-11 1L8.5 8.5l.94-2.06 2.06-.94-2.06-.94L8.5 2.5l-.94 2.06-2.06.94zm10 10l.94 2.06.94-2.06 2.06-.94-2.06-.94-.94-2.06-.94 2.06-2.06.94z\"/><path d=\"M17.41 7.96l-1.37-1.37c-.4-.4-.92-.59-1.43-.59-.52 0-1.04.2-1.43.59L10.3 9.45l-7.72 7.72c-.78.78-.78 2.05 0 2.83L4 21.41c.39.39.9.59 1.41.59.51 0 1.02-.2 1.41-.59l7.78-7.78 2.81-2.81c.8-.78.8-2.07 0-2.86zM5.41 20L4 18.59l7.72-7.72 1.47 1.35L5.41 20z\"/>\n",
              "  </svg>\n",
              "      </button>\n",
              "      \n",
              "  <style>\n",
              "    .colab-df-container {\n",
              "      display:flex;\n",
              "      flex-wrap:wrap;\n",
              "      gap: 12px;\n",
              "    }\n",
              "\n",
              "    .colab-df-convert {\n",
              "      background-color: #E8F0FE;\n",
              "      border: none;\n",
              "      border-radius: 50%;\n",
              "      cursor: pointer;\n",
              "      display: none;\n",
              "      fill: #1967D2;\n",
              "      height: 32px;\n",
              "      padding: 0 0 0 0;\n",
              "      width: 32px;\n",
              "    }\n",
              "\n",
              "    .colab-df-convert:hover {\n",
              "      background-color: #E2EBFA;\n",
              "      box-shadow: 0px 1px 2px rgba(60, 64, 67, 0.3), 0px 1px 3px 1px rgba(60, 64, 67, 0.15);\n",
              "      fill: #174EA6;\n",
              "    }\n",
              "\n",
              "    [theme=dark] .colab-df-convert {\n",
              "      background-color: #3B4455;\n",
              "      fill: #D2E3FC;\n",
              "    }\n",
              "\n",
              "    [theme=dark] .colab-df-convert:hover {\n",
              "      background-color: #434B5C;\n",
              "      box-shadow: 0px 1px 3px 1px rgba(0, 0, 0, 0.15);\n",
              "      filter: drop-shadow(0px 1px 2px rgba(0, 0, 0, 0.3));\n",
              "      fill: #FFFFFF;\n",
              "    }\n",
              "  </style>\n",
              "\n",
              "      <script>\n",
              "        const buttonEl =\n",
              "          document.querySelector('#df-b0e31c77-108c-46ef-bc1b-8ec074ac27c8 button.colab-df-convert');\n",
              "        buttonEl.style.display =\n",
              "          google.colab.kernel.accessAllowed ? 'block' : 'none';\n",
              "\n",
              "        async function convertToInteractive(key) {\n",
              "          const element = document.querySelector('#df-b0e31c77-108c-46ef-bc1b-8ec074ac27c8');\n",
              "          const dataTable =\n",
              "            await google.colab.kernel.invokeFunction('convertToInteractive',\n",
              "                                                     [key], {});\n",
              "          if (!dataTable) return;\n",
              "\n",
              "          const docLinkHtml = 'Like what you see? Visit the ' +\n",
              "            '<a target=\"_blank\" href=https://colab.research.google.com/notebooks/data_table.ipynb>data table notebook</a>'\n",
              "            + ' to learn more about interactive tables.';\n",
              "          element.innerHTML = '';\n",
              "          dataTable['output_type'] = 'display_data';\n",
              "          await google.colab.output.renderOutput(dataTable, element);\n",
              "          const docLink = document.createElement('div');\n",
              "          docLink.innerHTML = docLinkHtml;\n",
              "          element.appendChild(docLink);\n",
              "        }\n",
              "      </script>\n",
              "    </div>\n",
              "  </div>\n",
              "  "
            ]
          },
          "metadata": {},
          "execution_count": 44
        }
      ]
    },
    {
      "cell_type": "code",
      "source": [
        "print(f\"Число пропусков в тренировачной части: {(data_train['TotalSpent'] == ' ').sum()}\")\n",
        "print(f\"Число пропусков в тестовой части: {(data_test['TotalSpent'] == ' ').sum()}\")"
      ],
      "metadata": {
        "colab": {
          "base_uri": "https://localhost:8080/"
        },
        "id": "zuNF2vxs1_ti",
        "outputId": "76170765-ae97-4204-cb0f-02b504ce74be"
      },
      "execution_count": null,
      "outputs": [
        {
          "output_type": "stream",
          "name": "stdout",
          "text": [
            "Число пропусков в тренировачной части: 9\n",
            "Число пропусков в тестовой части: 2\n"
          ]
        }
      ]
    },
    {
      "cell_type": "code",
      "source": [
        "train_index = data_train[data_train['TotalSpent'] == ' '].index\n",
        "test_index = data_test[data_test['TotalSpent'] == ' '].index\n",
        "\n",
        "data_train.loc[train_index, 'TotalSpent'] = 0\n",
        "data_test.loc[test_index, 'TotalSpent'] = 0\n",
        "\n",
        "data_train['TotalSpent'] = data_train['TotalSpent'].astype(float)\n",
        "data_test['TotalSpent'] = data_test['TotalSpent'].astype(float)"
      ],
      "metadata": {
        "id": "RV_Oj8Cn5Pej"
      },
      "execution_count": null,
      "outputs": []
    },
    {
      "cell_type": "code",
      "source": [
        "print(f\"Дупликаты на тренеровочной части данных: {data_train.drop(target_col, axis=1).duplicated(keep=False).sum()}\")\n",
        "print(f\"Дупликаты на тестовой части данных: {data_test.duplicated(keep=False).sum()}\")"
      ],
      "metadata": {
        "colab": {
          "base_uri": "https://localhost:8080/"
        },
        "id": "SBifPnEM0vRz",
        "outputId": "8f207477-7a47-43f7-97d4-fc3f61bbcbdf"
      },
      "execution_count": null,
      "outputs": [
        {
          "output_type": "stream",
          "name": "stdout",
          "text": [
            "Дупликаты на тренеровочной части данных: 41\n",
            "Дупликаты на тестовой части данных: 6\n"
          ]
        }
      ]
    },
    {
      "cell_type": "code",
      "source": [
        "train_index = data_train[data_train.drop(target_col, axis=1).duplicated(keep=False)].index\n",
        "test_index = data_test[data_test.duplicated(keep=False)].index\n",
        "\n",
        "data_train = data_train.drop(index = train_index)\n",
        "#data_test = data_test.drop(index = test_index)"
      ],
      "metadata": {
        "id": "UjPxwyQ9OWoO"
      },
      "execution_count": null,
      "outputs": []
    },
    {
      "cell_type": "markdown",
      "metadata": {
        "id": "dK370bPCEEZD"
      },
      "source": [
        "## Анализ данных (3 балла)\n",
        "\n",
        "1) Для численных призанков постройте гистограмму (*plt.hist(...)*) или boxplot (*plt.boxplot(...)*). Для категориальных посчитайте количество каждого значения для каждого признака. Для каждой колонки надо сделать *data.value_counts()* и построить bar диаграммы *plt.bar(...)* или круговые диаграммы *plt.pie(...)* (хорошо, елси вы сможете это сделать на одном гарфике с помощью *plt.subplots(...)*). \n",
        "\n",
        "2) Посмотрите на распределение целевой переменной и скажите, являются ли классы несбалансированными.\n",
        "\n",
        "3) (Если будет желание) Поиграйте с разными библиотеками для визуализации - *sns*, *pandas_visual_analysis*, etc.\n",
        "\n",
        "Второй пункт очень важен, потому что существуют задачи классификации с несбалансированными классами. Например, это может значить, что в датасете намного больше примеров 0 класса. В таких случаях нужно 1) не использовать accuracy как метрику 2) использовать методы борьбы с imbalanced dataset (обычно если датасет сильно несбалансирован, т.е. класса 1 в 20 раз меньше класса 0)."
      ]
    },
    {
      "cell_type": "code",
      "source": [
        "import seaborn as sns\n",
        "\n",
        "\n",
        "fig, axes = plt.subplots(5, 4, figsize=(20, 30))\n",
        "for ax, col in zip(axes.flatten(), data_train.columns):\n",
        "    ax.set_title(col)\n",
        "    if col in cat_cols or col == target_col:\n",
        "        ax.pie(data_train[col].value_counts(), autopct=\"%1.1f%%\", shadow = True, startangle = 90, labels=data_train[col].value_counts().index)\n",
        "    else:\n",
        "   \n",
        "        data_train[col].plot(kind=\"hist\", ec=\"black\", ax=ax)\n",
        "        "
      ],
      "metadata": {
        "colab": {
          "base_uri": "https://localhost:8080/",
          "height": 1000
        },
        "id": "PLtSJty29KZd",
        "outputId": "aeceaadb-d1b8-46c2-d75e-83523547d5b0"
      },
      "execution_count": null,
      "outputs": [
        {
          "output_type": "display_data",
          "data": {
            "text/plain": [
              "<Figure size 1440x2160 with 20 Axes>"
            ],
            "image/png": "[encoded data removed]"
          },
          "metadata": {}
        }
      ]
    },
    {
      "cell_type": "markdown",
      "source": [
        "Блочная диаграмма также известна как диаграмма «коробка с усами» (boxplot) и используется для отображения распределения данных по разным квартилям. Это очень полезная визуализация на этапе исследовательского анализа данных, которая может помочь найти выбросы в данных."
      ],
      "metadata": {
        "id": "RK3J7hSNWJp9"
      }
    },
    {
      "cell_type": "code",
      "source": [
        "sns.set_style('whitegrid')\n",
        "sns.boxplot(x=target_col,y= 'ClientPeriod',data=data_train)\n",
        "sns.stripplot(x=target_col, y='ClientPeriod',data=data_train)"
      ],
      "metadata": {
        "colab": {
          "base_uri": "https://localhost:8080/",
          "height": 297
        },
        "id": "DX_Ti731UJFI",
        "outputId": "ebae1e51-b989-47a1-afdd-4468a325b39b"
      },
      "execution_count": null,
      "outputs": [
        {
          "output_type": "execute_result",
          "data": {
            "text/plain": [
              "<matplotlib.axes._subplots.AxesSubplot at 0x7f2bdebb4f90>"
            ]
          },
          "metadata": {},
          "execution_count": 53
        },
        {
          "output_type": "display_data",
          "data": {
            "text/plain": [
              "<Figure size 432x288 with 1 Axes>"
            ],
            "image/png": "[encoded data removed]"
          },
          "metadata": {}
        }
      ]
    },
    {
      "cell_type": "code",
      "source": [
        "sns.set_style('whitegrid')\n",
        "sns.boxplot(x=target_col,y= 'TotalSpent',data=data_train)\n",
        "sns.stripplot(x=target_col, y='TotalSpent',data=data_train)"
      ],
      "metadata": {
        "colab": {
          "base_uri": "https://localhost:8080/",
          "height": 297
        },
        "id": "VVol_9MLVU53",
        "outputId": "be112b97-3a2f-4279-a096-b81653e6625e"
      },
      "execution_count": null,
      "outputs": [
        {
          "output_type": "execute_result",
          "data": {
            "text/plain": [
              "<matplotlib.axes._subplots.AxesSubplot at 0x7f2bdf2e3b10>"
            ]
          },
          "metadata": {},
          "execution_count": 55
        },
        {
          "output_type": "display_data",
          "data": {
            "text/plain": [
              "<Figure size 432x288 with 1 Axes>"
            ],
            "image/png": "[encoded data removed]"
          },
          "metadata": {}
        }
      ]
    },
    {
      "cell_type": "code",
      "source": [
        "sns.set_style('whitegrid')\n",
        "sns.boxplot(x=target_col,y= 'MonthlySpending',data=data_train)\n",
        "sns.stripplot(x=target_col, y='MonthlySpending',data=data_train)"
      ],
      "metadata": {
        "colab": {
          "base_uri": "https://localhost:8080/",
          "height": 297
        },
        "id": "_EUgdw8YVdhT",
        "outputId": "3e248e1f-7e26-4eac-e966-653a15340bd7"
      },
      "execution_count": null,
      "outputs": [
        {
          "output_type": "execute_result",
          "data": {
            "text/plain": [
              "<matplotlib.axes._subplots.AxesSubplot at 0x7f2bf9bdbb10>"
            ]
          },
          "metadata": {},
          "execution_count": 56
        },
        {
          "output_type": "display_data",
          "data": {
            "text/plain": [
              "<Figure size 432x288 with 1 Axes>"
            ],
            "image/png": "[encoded data removed]"
          },
          "metadata": {}
        }
      ]
    },
    {
      "cell_type": "markdown",
      "source": [
        "видно, что в данных есть выбросы"
      ],
      "metadata": {
        "id": "CqHmYeMgbJ3I"
      }
    },
    {
      "cell_type": "code",
      "source": [
        "data_train[target_col].value_counts()"
      ],
      "metadata": {
        "colab": {
          "base_uri": "https://localhost:8080/"
        },
        "id": "U-IiRuCYfsi1",
        "outputId": "b6c49da9-3b70-41d3-c02a-90c42160a2a0"
      },
      "execution_count": null,
      "outputs": [
        {
          "output_type": "execute_result",
          "data": {
            "text/plain": [
              "0    3884\n",
              "1    1357\n",
              "Name: Churn, dtype: int64"
            ]
          },
          "metadata": {},
          "execution_count": 18
        }
      ]
    },
    {
      "cell_type": "markdown",
      "source": [
        "классы несбалансированы. а значит необходимо использовать устойчивые к дисбалансу метрики качества, например F1-score"
      ],
      "metadata": {
        "id": "Zz9cOmsXf7BQ"
      }
    },
    {
      "cell_type": "markdown",
      "metadata": {
        "id": "DviiJd8REEZK"
      },
      "source": [
        "## Применение линейных моделей (3 балла)\n",
        "\n",
        "1) Обработайте данные для того, чтобы к ним можно было применить LogisticRegression. Т.е. отнормируйте числовые признаки, а категориальные закодируйте с помощью one-hot-encoding'а. \n",
        "\n",
        "2) С помощью кроссвалидации или разделения на train/valid выборку протестируйте разные значения гиперпараметра C и выберите лучший (можно тестировать С=100, 10, 1, 0.1, 0.01, 0.001) по метрике ROC-AUC. \n",
        "\n",
        "Если вы разделяете на train/valid, то используйте LogisticRegressionCV. Он сам при вызове .fit() подберет параметр С. (не забудьте передать scroing='roc_auc', чтобы при кроссвалидации сравнивались значения этой метрики, и refit=True, чтобы при потом модель обучилась на всем датасете с лучшим параметром C). \n",
        "\n",
        "\n",
        "(более сложный вариант) Если вы будете использовать кроссвалидацию, то преобразования данных и LogisticRegression нужно соединить в один Pipeline с помощью make_pipeline, как это делалось во втором семинаре. Потом pipeline надо передать в GridSearchCV. Для one-hot-encoding'a можно испльзовать комбинацию LabelEncoder + OneHotEncoder (сначала превращаем строчки в числа, а потом числа првращаем в one-hot вектора.)"
      ]
    },
    {
      "cell_type": "code",
      "metadata": {
        "id": "xHCLDmwqEEZL"
      },
      "source": [
        "from sklearn.linear_model import LogisticRegression, LogisticRegressionCV\n",
        "from sklearn.model_selection import train_test_split, GridSearchCV\n",
        "from sklearn.preprocessing import StandardScaler, RobustScaler, LabelEncoder, OneHotEncoder\n",
        "from sklearn.compose import ColumnTransformer\n",
        "from sklearn.pipeline import make_pipeline"
      ],
      "execution_count": null,
      "outputs": []
    },
    {
      "cell_type": "code",
      "source": [
        "X_train = data_train.drop(target_col, axis=1)\n",
        "y_train = data_train[target_col]"
      ],
      "metadata": {
        "id": "Mrsuu3L6r2Ab"
      },
      "execution_count": null,
      "outputs": []
    },
    {
      "cell_type": "markdown",
      "source": [
        "\n",
        "для численных значений используем StandardScaler\n",
        "категориальные разобьем с помощью OneHotEncoder"
      ],
      "metadata": {
        "id": "OjyuBo8yPlcn"
      }
    },
    {
      "cell_type": "code",
      "source": [
        "prep_pipeline = ColumnTransformer([\n",
        "        ('num', StandardScaler(), num_cols),\n",
        "        ('cat', OneHotEncoder(), cat_cols)\n",
        "    ])"
      ],
      "metadata": {
        "id": "QleYhucsqQ9I"
      },
      "execution_count": null,
      "outputs": []
    },
    {
      "cell_type": "markdown",
      "source": [
        "создадим экземпляр модели с помощью make_pipeline\n",
        "подбор параметров и кросс-валидацию проведем в GridSearchCV()"
      ],
      "metadata": {
        "id": "XbC5PdbyP4dx"
      }
    },
    {
      "cell_type": "code",
      "source": [
        "clf  = make_pipeline(\n",
        "    prep_pipeline,\n",
        "    LogisticRegression(random_state=42, solver=\"liblinear\", max_iter=10000)\n",
        "    )"
      ],
      "metadata": {
        "id": "Y1Msh93aoByU"
      },
      "execution_count": null,
      "outputs": []
    },
    {
      "cell_type": "code",
      "source": [
        "param_grid = {\n",
        "    'logisticregression__penalty' : ['l1', 'l2'],\n",
        "    'logisticregression__C': [100, 10, 1, 0.1, 0.01, 0.001],\n",
        "    'logisticregression__class_weight': ['balanced']\n",
        "}"
      ],
      "metadata": {
        "id": "yOEEgAYtqm23"
      },
      "execution_count": null,
      "outputs": []
    },
    {
      "cell_type": "code",
      "source": [
        "model = GridSearchCV(clf, param_grid, cv=5, verbose=0, scoring='roc_auc', refit=True, n_jobs=-1)"
      ],
      "metadata": {
        "id": "PSdje6MGrNQI"
      },
      "execution_count": null,
      "outputs": []
    },
    {
      "cell_type": "markdown",
      "metadata": {
        "id": "uVahy6JKEEZQ"
      },
      "source": [
        "Выпишите какое лучшее качество и с какими параметрами вам удалось получить"
      ]
    },
    {
      "cell_type": "code",
      "source": [
        "model.fit(X_train, y_train)\n",
        "\n",
        "# смотрим лучше параметры\n",
        "print(\"Best ROC-AUC metric:\", round(model.best_score_,4))\n",
        "print(\"Best estimator's parameters:\", model.best_params_)"
      ],
      "metadata": {
        "colab": {
          "base_uri": "https://localhost:8080/"
        },
        "id": "gA3NlCKTrbHl",
        "outputId": "a4a2b1fd-5adb-46e5-a571-add898ba6486"
      },
      "execution_count": null,
      "outputs": [
        {
          "output_type": "stream",
          "name": "stdout",
          "text": [
            "Best ROC-AUC metric: 0.8451\n",
            "Best estimator's parameters: {'logisticregression__C': 10, 'logisticregression__class_weight': 'balanced', 'logisticregression__penalty': 'l2'}\n"
          ]
        }
      ]
    },
    {
      "cell_type": "markdown",
      "source": [
        "Best ROC-AUC metric: 0.8451\n",
        "Best estimator's parameters: {'logisticregression__C': 10, 'logisticregression__class_weight': 'balanced', 'logisticregression__penalty': 'l2'}\n"
      ],
      "metadata": {
        "id": "00ICO8f4QJKz"
      }
    },
    {
      "cell_type": "markdown",
      "metadata": {
        "id": "BlTeVy7fEEZR"
      },
      "source": [
        "## Применение градиентного бустинга (2 балла)\n",
        "\n",
        "Если вы хотите получить баллы за точный ответ, то стоит попробовать градиентный бустинг. Часто градиентный бустинг с дефолтными параметрами даст вам 80% результата за 0% усилий.\n",
        "\n",
        "Мы будем использовать catboost, поэтому нам не надо кодировать категориальные признаки. catboost сделает это сам (в .fit() надо передать cat_features=cat_cols). А численные признаки нормировать для моделей, основанных на деревьях не нужно.\n",
        "\n",
        "1) Разделите выборку на train/valid. Протестируйте catboost cо стандартными параметрами.\n",
        "\n",
        "2) Протестируйте разные занчения параметроа количества деревьев и learning_rate'а и выберите лучшую по метрике ROC-AUC комбинацию. \n",
        "\n",
        "(Дополнительно) Есть некоторые сложности с тем, чтобы использовать CatBoostClassifier вместе с GridSearchCV, поэтому мы не просим использовать кроссвалидацию. Но можете попробовать)"
      ]
    },
    {
      "cell_type": "code",
      "source": [
        "pip install catboost"
      ],
      "metadata": {
        "colab": {
          "base_uri": "https://localhost:8080/"
        },
        "id": "RyDpmK9rxLv8",
        "outputId": "9b3b85ba-1f37-4320-c7a6-8b83551f7bcc"
      },
      "execution_count": null,
      "outputs": [
        {
          "output_type": "stream",
          "name": "stdout",
          "text": [
            "Looking in indexes: https://pypi.org/simple, https://us-python.pkg.dev/colab-wheels/public/simple/\n",
            "Requirement already satisfied: catboost in /usr/local/lib/python3.7/dist-packages (1.1)\n",
            "Requirement already satisfied: plotly in /usr/local/lib/python3.7/dist-packages (from catboost) (5.5.0)\n",
            "Requirement already satisfied: numpy>=1.16.0 in /usr/local/lib/python3.7/dist-packages (from catboost) (1.21.6)\n",
            "Requirement already satisfied: graphviz in /usr/local/lib/python3.7/dist-packages (from catboost) (0.10.1)\n",
            "Requirement already satisfied: scipy in /usr/local/lib/python3.7/dist-packages (from catboost) (1.7.3)\n",
            "Requirement already satisfied: six in /usr/local/lib/python3.7/dist-packages (from catboost) (1.15.0)\n",
            "Requirement already satisfied: matplotlib in /usr/local/lib/python3.7/dist-packages (from catboost) (3.2.2)\n",
            "Requirement already satisfied: pandas>=0.24.0 in /usr/local/lib/python3.7/dist-packages (from catboost) (1.3.5)\n",
            "Requirement already satisfied: pytz>=2017.3 in /usr/local/lib/python3.7/dist-packages (from pandas>=0.24.0->catboost) (2022.4)\n",
            "Requirement already satisfied: python-dateutil>=2.7.3 in /usr/local/lib/python3.7/dist-packages (from pandas>=0.24.0->catboost) (2.8.2)\n",
            "Requirement already satisfied: kiwisolver>=1.0.1 in /usr/local/lib/python3.7/dist-packages (from matplotlib->catboost) (1.4.4)\n",
            "Requirement already satisfied: pyparsing!=2.0.4,!=2.1.2,!=2.1.6,>=2.0.1 in /usr/local/lib/python3.7/dist-packages (from matplotlib->catboost) (3.0.9)\n",
            "Requirement already satisfied: cycler>=0.10 in /usr/local/lib/python3.7/dist-packages (from matplotlib->catboost) (0.11.0)\n",
            "Requirement already satisfied: typing-extensions in /usr/local/lib/python3.7/dist-packages (from kiwisolver>=1.0.1->matplotlib->catboost) (4.1.1)\n",
            "Requirement already satisfied: tenacity>=6.2.0 in /usr/local/lib/python3.7/dist-packages (from plotly->catboost) (8.1.0)\n"
          ]
        }
      ]
    },
    {
      "cell_type": "code",
      "metadata": {
        "id": "Fioxxlp-EEZS"
      },
      "source": [
        "from catboost import CatBoostClassifier, Pool\n",
        "\n",
        "catboost_train_dataset = Pool(data=X_train,\n",
        "                  label=y_train,\n",
        "                  cat_features=cat_cols,\n",
        "                  feature_names=feature_cols\n",
        "                  )"
      ],
      "execution_count": null,
      "outputs": []
    },
    {
      "cell_type": "code",
      "source": [
        "\n",
        "cb_clf = CatBoostClassifier(loss_function = 'CrossEntropy',\n",
        "                                    random_state = 42,\n",
        "                                    eval_metric = 'AUC', \n",
        "                                    bootstrap_type = 'Bayesian', # метод сэмплинга весов объектов\n",
        "                                    verbose = False,\n",
        "                                    early_stopping_rounds = 400,\n",
        "                                    )\n",
        "\n",
        "grid = {\"iterations\": [100, 200, 300, 500],\n",
        "        \"learning_rate\":[0.01, 0.03, 0.05, 0.1],\n",
        "        \"max_depth\": [2, 4, 6],\n",
        "        \"score_function\": ['L2'],} \n",
        "\n",
        "cb_clf_grid_search = cb_clf.grid_search(grid, cv=5, X=catboost_train_dataset, shuffle=True, plot=True, train_size=0.8)"
      ],
      "metadata": {
        "colab": {
          "base_uri": "https://localhost:8080/",
          "height": 1000,
          "referenced_widgets": [
            "d64c9d90da834431aecf2b0214df2db3"
          ]
        },
        "id": "mFx4DUMkxLso",
        "outputId": "8b788b22-4b86-442b-e21f-728ebb1152bb"
      },
      "execution_count": null,
      "outputs": [
        {
          "output_type": "display_data",
          "data": {
            "text/plain": [
              "MetricVisualizer(layout=Layout(align_self='stretch', height='500px'))"
            ],
            "application/vnd.jupyter.widget-view+json": {
              "version_major": 2,
              "version_minor": 0,
              "model_id": "d64c9d90da834431aecf2b0214df2db3"
            }
          },
          "metadata": {}
        },
        {
          "output_type": "stream",
          "name": "stdout",
          "text": [
            "\n",
            "bestTest = 0.8174323884\n",
            "bestIteration = 94\n",
            "\n",
            "Metric AUC is not calculated on train by default. To calculate this metric on train, add hints=skip_train~false to metric parameters.\n",
            "0:\tloss: 0.8174324\tbest: 0.8174324 (0)\ttotal: 535ms\tremaining: 25.1s\n",
            "\n",
            "bestTest = 0.8212749616\n",
            "bestIteration = 95\n",
            "\n",
            "Metric AUC is not calculated on train by default. To calculate this metric on train, add hints=skip_train~false to metric parameters.\n",
            "1:\tloss: 0.8212750\tbest: 0.8212750 (1)\ttotal: 1.3s\tremaining: 29.9s\n",
            "\n",
            "bestTest = 0.8249802169\n",
            "bestIteration = 99\n",
            "\n",
            "Metric AUC is not calculated on train by default. To calculate this metric on train, add hints=skip_train~false to metric parameters.\n",
            "2:\tloss: 0.8249802\tbest: 0.8249802 (2)\ttotal: 1.87s\tremaining: 28s\n",
            "\n",
            "bestTest = 0.8262905553\n",
            "bestIteration = 95\n",
            "\n",
            "Metric AUC is not calculated on train by default. To calculate this metric on train, add hints=skip_train~false to metric parameters.\n",
            "3:\tloss: 0.8262906\tbest: 0.8262906 (3)\ttotal: 2.35s\tremaining: 25.9s\n",
            "\n",
            "bestTest = 0.8195317228\n",
            "bestIteration = 199\n",
            "\n",
            "Metric AUC is not calculated on train by default. To calculate this metric on train, add hints=skip_train~false to metric parameters.\n",
            "4:\tloss: 0.8195317\tbest: 0.8262906 (3)\ttotal: 3.67s\tremaining: 31.6s\n",
            "\n",
            "bestTest = 0.8257855048\n",
            "bestIteration = 197\n",
            "\n",
            "Metric AUC is not calculated on train by default. To calculate this metric on train, add hints=skip_train~false to metric parameters.\n",
            "5:\tloss: 0.8257855\tbest: 0.8262906 (3)\ttotal: 5.02s\tremaining: 35.1s\n",
            "\n",
            "bestTest = 0.8278406182\n",
            "bestIteration = 183\n",
            "\n",
            "Metric AUC is not calculated on train by default. To calculate this metric on train, add hints=skip_train~false to metric parameters.\n",
            "6:\tloss: 0.8278406\tbest: 0.8278406 (6)\ttotal: 7.01s\tremaining: 41.1s\n",
            "\n",
            "bestTest = 0.8292999116\n",
            "bestIteration = 199\n",
            "\n",
            "Metric AUC is not calculated on train by default. To calculate this metric on train, add hints=skip_train~false to metric parameters.\n",
            "7:\tloss: 0.8292999\tbest: 0.8292999 (7)\ttotal: 9.23s\tremaining: 46.2s\n",
            "\n",
            "bestTest = 0.8228320067\n",
            "bestIteration = 294\n",
            "\n",
            "Metric AUC is not calculated on train by default. To calculate this metric on train, add hints=skip_train~false to metric parameters.\n",
            "8:\tloss: 0.8228320\tbest: 0.8292999 (7)\ttotal: 12.5s\tremaining: 54s\n",
            "\n",
            "bestTest = 0.8271121352\n",
            "bestIteration = 299\n",
            "\n",
            "Metric AUC is not calculated on train by default. To calculate this metric on train, add hints=skip_train~false to metric parameters.\n",
            "9:\tloss: 0.8271121\tbest: 0.8292999 (7)\ttotal: 15.5s\tremaining: 59s\n",
            "\n",
            "bestTest = 0.8293092212\n",
            "bestIteration = 296\n",
            "\n",
            "Metric AUC is not calculated on train by default. To calculate this metric on train, add hints=skip_train~false to metric parameters.\n",
            "10:\tloss: 0.8293092\tbest: 0.8293092 (10)\ttotal: 18.7s\tremaining: 1m 2s\n",
            "\n",
            "bestTest = 0.8294255923\n",
            "bestIteration = 241\n",
            "\n",
            "Metric AUC is not calculated on train by default. To calculate this metric on train, add hints=skip_train~false to metric parameters.\n",
            "11:\tloss: 0.8294256\tbest: 0.8294256 (11)\ttotal: 22s\tremaining: 1m 6s\n",
            "\n",
            "bestTest = 0.8257389564\n",
            "bestIteration = 481\n",
            "\n",
            "Metric AUC is not calculated on train by default. To calculate this metric on train, add hints=skip_train~false to metric parameters.\n",
            "12:\tloss: 0.8257390\tbest: 0.8294256 (11)\ttotal: 27.5s\tremaining: 1m 14s\n",
            "\n",
            "bestTest = 0.8288483918\n",
            "bestIteration = 492\n",
            "\n",
            "Metric AUC is not calculated on train by default. To calculate this metric on train, add hints=skip_train~false to metric parameters.\n",
            "13:\tloss: 0.8288484\tbest: 0.8294256 (11)\ttotal: 31.3s\tremaining: 1m 16s\n",
            "\n",
            "bestTest = 0.8296909184\n",
            "bestIteration = 373\n",
            "\n",
            "Metric AUC is not calculated on train by default. To calculate this metric on train, add hints=skip_train~false to metric parameters.\n",
            "14:\tloss: 0.8296909\tbest: 0.8296909 (14)\ttotal: 34.3s\tremaining: 1m 15s\n",
            "\n",
            "bestTest = 0.8303914723\n",
            "bestIteration = 498\n",
            "\n",
            "Metric AUC is not calculated on train by default. To calculate this metric on train, add hints=skip_train~false to metric parameters.\n",
            "15:\tloss: 0.8303915\tbest: 0.8303915 (15)\ttotal: 37.3s\tremaining: 1m 14s\n",
            "\n",
            "bestTest = 0.8215379602\n",
            "bestIteration = 70\n",
            "\n",
            "Metric AUC is not calculated on train by default. To calculate this metric on train, add hints=skip_train~false to metric parameters.\n",
            "16:\tloss: 0.8215380\tbest: 0.8303915 (15)\ttotal: 37.9s\tremaining: 1m 9s\n",
            "\n",
            "bestTest = 0.8261858213\n",
            "bestIteration = 32\n",
            "\n",
            "Metric AUC is not calculated on train by default. To calculate this metric on train, add hints=skip_train~false to metric parameters.\n",
            "17:\tloss: 0.8261858\tbest: 0.8303915 (15)\ttotal: 38.6s\tremaining: 1m 4s\n",
            "\n",
            "bestTest = 0.8264720942\n",
            "bestIteration = 99\n",
            "\n",
            "Metric AUC is not calculated on train by default. To calculate this metric on train, add hints=skip_train~false to metric parameters.\n",
            "18:\tloss: 0.8264721\tbest: 0.8303915 (15)\ttotal: 39.3s\tremaining: 59.9s\n",
            "\n",
            "bestTest = 0.8303100126\n",
            "bestIteration = 89\n",
            "\n",
            "Metric AUC is not calculated on train by default. To calculate this metric on train, add hints=skip_train~false to metric parameters.\n",
            "19:\tloss: 0.8303100\tbest: 0.8303915 (15)\ttotal: 39.9s\tremaining: 55.9s\n",
            "\n",
            "bestTest = 0.824086487\n",
            "bestIteration = 195\n",
            "\n",
            "Metric AUC is not calculated on train by default. To calculate this metric on train, add hints=skip_train~false to metric parameters.\n",
            "20:\tloss: 0.8240865\tbest: 0.8303915 (15)\ttotal: 42.1s\tremaining: 54.1s\n",
            "\n",
            "bestTest = 0.8279104408\n",
            "bestIteration = 195\n",
            "\n",
            "Metric AUC is not calculated on train by default. To calculate this metric on train, add hints=skip_train~false to metric parameters.\n",
            "21:\tloss: 0.8279104\tbest: 0.8303915 (15)\ttotal: 44.3s\tremaining: 52.4s\n",
            "\n",
            "bestTest = 0.8283177396\n",
            "bestIteration = 178\n",
            "\n",
            "Metric AUC is not calculated on train by default. To calculate this metric on train, add hints=skip_train~false to metric parameters.\n",
            "22:\tloss: 0.8283177\tbest: 0.8303915 (15)\ttotal: 46.5s\tremaining: 50.5s\n",
            "\n",
            "bestTest = 0.8280873249\n",
            "bestIteration = 67\n",
            "\n",
            "Metric AUC is not calculated on train by default. To calculate this metric on train, add hints=skip_train~false to metric parameters.\n",
            "23:\tloss: 0.8280873\tbest: 0.8303915 (15)\ttotal: 48.7s\tremaining: 48.7s\n",
            "\n",
            "bestTest = 0.825764558\n",
            "bestIteration = 299\n",
            "\n",
            "Metric AUC is not calculated on train by default. To calculate this metric on train, add hints=skip_train~false to metric parameters.\n",
            "24:\tloss: 0.8257646\tbest: 0.8303915 (15)\ttotal: 51.9s\tremaining: 47.8s\n",
            "\n",
            "bestTest = 0.829302239\n",
            "bestIteration = 294\n",
            "\n",
            "Metric AUC is not calculated on train by default. To calculate this metric on train, add hints=skip_train~false to metric parameters.\n",
            "25:\tloss: 0.8293022\tbest: 0.8303915 (15)\ttotal: 55.2s\tremaining: 46.7s\n",
            "\n",
            "bestTest = 0.828617977\n",
            "bestIteration = 227\n",
            "\n",
            "Metric AUC is not calculated on train by default. To calculate this metric on train, add hints=skip_train~false to metric parameters.\n",
            "26:\tloss: 0.8286180\tbest: 0.8303915 (15)\ttotal: 58.6s\tremaining: 45.6s\n",
            "\n",
            "bestTest = 0.8280873249\n",
            "bestIteration = 67\n",
            "\n",
            "Metric AUC is not calculated on train by default. To calculate this metric on train, add hints=skip_train~false to metric parameters.\n",
            "27:\tloss: 0.8280873\tbest: 0.8303915 (15)\ttotal: 1m 1s\tremaining: 44.3s\n",
            "\n",
            "bestTest = 0.8266280315\n",
            "bestIteration = 498\n",
            "\n",
            "Metric AUC is not calculated on train by default. To calculate this metric on train, add hints=skip_train~false to metric parameters.\n",
            "28:\tloss: 0.8266280\tbest: 0.8303915 (15)\ttotal: 1m 7s\tremaining: 44.1s\n",
            "\n",
            "bestTest = 0.8300377042\n",
            "bestIteration = 427\n",
            "\n",
            "Metric AUC is not calculated on train by default. To calculate this metric on train, add hints=skip_train~false to metric parameters.\n",
            "29:\tloss: 0.8300377\tbest: 0.8303915 (15)\ttotal: 1m 12s\tremaining: 43.7s\n",
            "\n",
            "bestTest = 0.828617977\n",
            "bestIteration = 227\n",
            "\n",
            "Metric AUC is not calculated on train by default. To calculate this metric on train, add hints=skip_train~false to metric parameters.\n",
            "30:\tloss: 0.8286180\tbest: 0.8303915 (15)\ttotal: 1m 18s\tremaining: 43s\n",
            "Stopped by overfitting detector  (400 iterations wait)\n",
            "\n",
            "bestTest = 0.8280873249\n",
            "bestIteration = 67\n",
            "\n",
            "Metric AUC is not calculated on train by default. To calculate this metric on train, add hints=skip_train~false to metric parameters.\n",
            "31:\tloss: 0.8280873\tbest: 0.8303915 (15)\ttotal: 1m 23s\tremaining: 41.8s\n",
            "\n",
            "bestTest = 0.8259367872\n",
            "bestIteration = 92\n",
            "\n",
            "Metric AUC is not calculated on train by default. To calculate this metric on train, add hints=skip_train~false to metric parameters.\n",
            "32:\tloss: 0.8259368\tbest: 0.8303915 (15)\ttotal: 1m 24s\tremaining: 38.4s\n",
            "\n",
            "bestTest = 0.8282618815\n",
            "bestIteration = 37\n",
            "\n",
            "Metric AUC is not calculated on train by default. To calculate this metric on train, add hints=skip_train~false to metric parameters.\n",
            "33:\tloss: 0.8282619\tbest: 0.8303915 (15)\ttotal: 1m 25s\tremaining: 35.2s\n",
            "\n",
            "bestTest = 0.8284061816\n",
            "bestIteration = 75\n",
            "\n",
            "Metric AUC is not calculated on train by default. To calculate this metric on train, add hints=skip_train~false to metric parameters.\n",
            "34:\tloss: 0.8284062\tbest: 0.8303915 (15)\ttotal: 1m 26s\tremaining: 32.1s\n",
            "\n",
            "bestTest = 0.828320067\n",
            "bestIteration = 15\n",
            "\n",
            "Metric AUC is not calculated on train by default. To calculate this metric on train, add hints=skip_train~false to metric parameters.\n",
            "35:\tloss: 0.8283201\tbest: 0.8303915 (15)\ttotal: 1m 27s\tremaining: 29.1s\n",
            "\n",
            "bestTest = 0.8251431364\n",
            "bestIteration = 198\n",
            "\n",
            "Metric AUC is not calculated on train by default. To calculate this metric on train, add hints=skip_train~false to metric parameters.\n",
            "36:\tloss: 0.8251431\tbest: 0.8303915 (15)\ttotal: 1m 30s\tremaining: 27s\n",
            "\n",
            "bestTest = 0.8265070055\n",
            "bestIteration = 174\n",
            "\n",
            "Metric AUC is not calculated on train by default. To calculate this metric on train, add hints=skip_train~false to metric parameters.\n",
            "37:\tloss: 0.8265070\tbest: 0.8303915 (15)\ttotal: 1m 34s\tremaining: 24.8s\n",
            "\n",
            "bestTest = 0.8267327654\n",
            "bestIteration = 93\n",
            "\n",
            "Metric AUC is not calculated on train by default. To calculate this metric on train, add hints=skip_train~false to metric parameters.\n",
            "38:\tloss: 0.8267328\tbest: 0.8303915 (15)\ttotal: 1m 37s\tremaining: 22.6s\n",
            "\n",
            "bestTest = 0.8238351254\n",
            "bestIteration = 48\n",
            "\n",
            "Metric AUC is not calculated on train by default. To calculate this metric on train, add hints=skip_train~false to metric parameters.\n",
            "39:\tloss: 0.8238351\tbest: 0.8303915 (15)\ttotal: 1m 41s\tremaining: 20.3s\n",
            "\n",
            "bestTest = 0.8264139087\n",
            "bestIteration = 295\n",
            "\n",
            "Metric AUC is not calculated on train by default. To calculate this metric on train, add hints=skip_train~false to metric parameters.\n",
            "40:\tloss: 0.8264139\tbest: 0.8303915 (15)\ttotal: 1m 46s\tremaining: 18.2s\n",
            "\n",
            "bestTest = 0.8275869292\n",
            "bestIteration = 292\n",
            "\n",
            "Metric AUC is not calculated on train by default. To calculate this metric on train, add hints=skip_train~false to metric parameters.\n",
            "41:\tloss: 0.8275869\tbest: 0.8303915 (15)\ttotal: 1m 52s\tremaining: 16s\n",
            "\n",
            "bestTest = 0.8267327654\n",
            "bestIteration = 93\n",
            "\n",
            "Metric AUC is not calculated on train by default. To calculate this metric on train, add hints=skip_train~false to metric parameters.\n",
            "42:\tloss: 0.8267328\tbest: 0.8303915 (15)\ttotal: 1m 57s\tremaining: 13.7s\n",
            "\n",
            "bestTest = 0.8238351254\n",
            "bestIteration = 48\n",
            "\n",
            "Metric AUC is not calculated on train by default. To calculate this metric on train, add hints=skip_train~false to metric parameters.\n",
            "43:\tloss: 0.8238351\tbest: 0.8303915 (15)\ttotal: 2m 3s\tremaining: 11.2s\n",
            "\n",
            "bestTest = 0.8280873249\n",
            "bestIteration = 499\n",
            "\n",
            "Metric AUC is not calculated on train by default. To calculate this metric on train, add hints=skip_train~false to metric parameters.\n",
            "44:\tloss: 0.8280873\tbest: 0.8303915 (15)\ttotal: 2m 13s\tremaining: 8.93s\n",
            "\n",
            "bestTest = 0.8275869292\n",
            "bestIteration = 292\n",
            "\n",
            "Metric AUC is not calculated on train by default. To calculate this metric on train, add hints=skip_train~false to metric parameters.\n",
            "45:\tloss: 0.8275869\tbest: 0.8303915 (15)\ttotal: 2m 22s\tremaining: 6.21s\n",
            "Stopped by overfitting detector  (400 iterations wait)\n",
            "\n",
            "bestTest = 0.8267327654\n",
            "bestIteration = 93\n",
            "\n",
            "Metric AUC is not calculated on train by default. To calculate this metric on train, add hints=skip_train~false to metric parameters.\n",
            "46:\tloss: 0.8267328\tbest: 0.8303915 (15)\ttotal: 2m 32s\tremaining: 3.24s\n",
            "Stopped by overfitting detector  (400 iterations wait)\n",
            "\n",
            "bestTest = 0.8238351254\n",
            "bestIteration = 48\n",
            "\n",
            "Metric AUC is not calculated on train by default. To calculate this metric on train, add hints=skip_train~false to metric parameters.\n",
            "47:\tloss: 0.8238351\tbest: 0.8303915 (15)\ttotal: 2m 40s\tremaining: 0us\n",
            "Estimating final quality...\n",
            "Training on fold [0/5]\n",
            "\n",
            "bestTest = 0.8551662073\n",
            "bestIteration = 95\n",
            "\n",
            "Training on fold [1/5]\n",
            "\n",
            "bestTest = 0.8395521854\n",
            "bestIteration = 293\n",
            "\n",
            "Training on fold [2/5]\n",
            "\n",
            "bestTest = 0.8726889637\n",
            "bestIteration = 110\n",
            "\n",
            "Training on fold [3/5]\n",
            "\n",
            "bestTest = 0.8411455736\n",
            "bestIteration = 328\n",
            "\n",
            "Training on fold [4/5]\n",
            "\n",
            "bestTest = 0.8293001962\n",
            "bestIteration = 401\n",
            "\n"
          ]
        }
      ]
    },
    {
      "cell_type": "code",
      "source": [
        "cb_clf_grid_search['params']"
      ],
      "metadata": {
        "colab": {
          "base_uri": "https://localhost:8080/"
        },
        "id": "z95hK1jE_ZPS",
        "outputId": "a210c84c-d6a6-48fa-8669-4d0acbbf04d0"
      },
      "execution_count": null,
      "outputs": [
        {
          "output_type": "execute_result",
          "data": {
            "text/plain": [
              "{'depth': 2, 'iterations': 500, 'learning_rate': 0.1, 'score_function': 'L2'}"
            ]
          },
          "metadata": {},
          "execution_count": 29
        }
      ]
    },
    {
      "cell_type": "code",
      "source": [
        "y_train_predicted = cb_clf.predict_proba(X_train)[:, 1]\n",
        "train_searching_auc = roc_auc_score(y_train, y_train_predicted)\n",
        "train_searching_auc"
      ],
      "metadata": {
        "colab": {
          "base_uri": "https://localhost:8080/"
        },
        "id": "T9rJBNXe1RML",
        "outputId": "dd23bbf5-4005-4646-cbc4-d82685fea408"
      },
      "execution_count": null,
      "outputs": [
        {
          "output_type": "execute_result",
          "data": {
            "text/plain": [
              "0.8619338108006166"
            ]
          },
          "metadata": {},
          "execution_count": 30
        }
      ]
    },
    {
      "cell_type": "markdown",
      "source": [
        "лучшая моделЬ показала результаты по метрике ROC-AUC = 0.8619"
      ],
      "metadata": {
        "id": "1cMq5BhGGFPZ"
      }
    },
    {
      "cell_type": "markdown",
      "metadata": {
        "id": "dDMXbvNZEEZV"
      },
      "source": [
        "# Предсказания"
      ]
    },
    {
      "cell_type": "code",
      "metadata": {
        "id": "FfSufx0CEEZZ"
      },
      "source": [
        "submission['Churn'] = cb_clf.predict_proba(data_test)[:, 1]\n",
        "submission.to_csv('./my_submission.csv', index = False)"
      ],
      "execution_count": null,
      "outputs": []
    },
    {
      "cell_type": "markdown",
      "source": [
        "![image.png](data:image/png;base64,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)"
      ],
      "metadata": {
        "id": "FIeRFZgbS7Vs"
      }
    }
  ]
}